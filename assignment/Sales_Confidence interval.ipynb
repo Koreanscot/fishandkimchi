{
 "cells": [
  {
   "cell_type": "code",
   "execution_count": 1,
   "metadata": {},
   "outputs": [],
   "source": [
    "import pandas as pd\n",
    "import numpy as np\n",
    "import matplotlib.pyplot as plt\n",
    "from scipy import stats\n",
    "import seaborn as sns"
   ]
  },
  {
   "cell_type": "code",
   "execution_count": 2,
   "metadata": {},
   "outputs": [],
   "source": [
    "# Import data\n",
    "sales = pd.read_excel('7-Data_sales.xlsx',sheet_name='sales data')"
   ]
  },
  {
   "cell_type": "code",
   "execution_count": 59,
   "metadata": {},
   "outputs": [
    {
     "data": {
      "text/html": [
       "<div>\n",
       "<style scoped>\n",
       "    .dataframe tbody tr th:only-of-type {\n",
       "        vertical-align: middle;\n",
       "    }\n",
       "\n",
       "    .dataframe tbody tr th {\n",
       "        vertical-align: top;\n",
       "    }\n",
       "\n",
       "    .dataframe thead th {\n",
       "        text-align: right;\n",
       "    }\n",
       "</style>\n",
       "<table border=\"1\" class=\"dataframe\">\n",
       "  <thead>\n",
       "    <tr style=\"text-align: right;\">\n",
       "      <th></th>\n",
       "      <th>Store ID</th>\n",
       "      <th>store size</th>\n",
       "      <th>Dept ID</th>\n",
       "      <th>Weekly_Sales ($)</th>\n",
       "      <th>Unemployment %</th>\n",
       "      <th>CPI</th>\n",
       "      <th>Temperature (F)</th>\n",
       "      <th>Fuel_Price</th>\n",
       "    </tr>\n",
       "  </thead>\n",
       "  <tbody>\n",
       "    <tr>\n",
       "      <td>count</td>\n",
       "      <td>421570.000000</td>\n",
       "      <td>421570.000000</td>\n",
       "      <td>421570.000000</td>\n",
       "      <td>421570.000000</td>\n",
       "      <td>421570.000000</td>\n",
       "      <td>421570.000000</td>\n",
       "      <td>421570.000000</td>\n",
       "      <td>421570.000000</td>\n",
       "    </tr>\n",
       "    <tr>\n",
       "      <td>mean</td>\n",
       "      <td>22.200546</td>\n",
       "      <td>136727.915739</td>\n",
       "      <td>44.260317</td>\n",
       "      <td>15981.258123</td>\n",
       "      <td>7.636399</td>\n",
       "      <td>184.963878</td>\n",
       "      <td>61.266910</td>\n",
       "      <td>3.354980</td>\n",
       "    </tr>\n",
       "    <tr>\n",
       "      <td>std</td>\n",
       "      <td>12.785297</td>\n",
       "      <td>60980.583328</td>\n",
       "      <td>30.492054</td>\n",
       "      <td>22711.183519</td>\n",
       "      <td>0.888184</td>\n",
       "      <td>39.005405</td>\n",
       "      <td>18.198682</td>\n",
       "      <td>0.510137</td>\n",
       "    </tr>\n",
       "    <tr>\n",
       "      <td>min</td>\n",
       "      <td>1.000000</td>\n",
       "      <td>34875.000000</td>\n",
       "      <td>1.000000</td>\n",
       "      <td>-4988.940000</td>\n",
       "      <td>4.420000</td>\n",
       "      <td>126.793400</td>\n",
       "      <td>19.530000</td>\n",
       "      <td>2.514000</td>\n",
       "    </tr>\n",
       "    <tr>\n",
       "      <td>25%</td>\n",
       "      <td>11.000000</td>\n",
       "      <td>93638.000000</td>\n",
       "      <td>18.000000</td>\n",
       "      <td>2079.650000</td>\n",
       "      <td>7.057000</td>\n",
       "      <td>135.446800</td>\n",
       "      <td>48.100000</td>\n",
       "      <td>2.759000</td>\n",
       "    </tr>\n",
       "    <tr>\n",
       "      <td>50%</td>\n",
       "      <td>22.000000</td>\n",
       "      <td>140167.000000</td>\n",
       "      <td>37.000000</td>\n",
       "      <td>7612.030000</td>\n",
       "      <td>7.771000</td>\n",
       "      <td>211.108414</td>\n",
       "      <td>64.520000</td>\n",
       "      <td>3.417000</td>\n",
       "    </tr>\n",
       "    <tr>\n",
       "      <td>75%</td>\n",
       "      <td>33.000000</td>\n",
       "      <td>202505.000000</td>\n",
       "      <td>74.000000</td>\n",
       "      <td>20205.852500</td>\n",
       "      <td>7.808000</td>\n",
       "      <td>219.355063</td>\n",
       "      <td>77.530000</td>\n",
       "      <td>3.796000</td>\n",
       "    </tr>\n",
       "    <tr>\n",
       "      <td>max</td>\n",
       "      <td>45.000000</td>\n",
       "      <td>219622.000000</td>\n",
       "      <td>99.000000</td>\n",
       "      <td>693099.360000</td>\n",
       "      <td>14.313000</td>\n",
       "      <td>222.074763</td>\n",
       "      <td>91.570000</td>\n",
       "      <td>4.211000</td>\n",
       "    </tr>\n",
       "  </tbody>\n",
       "</table>\n",
       "</div>"
      ],
      "text/plain": [
       "            Store ID     store size        Dept ID  Weekly_Sales ($)  \\\n",
       "count  421570.000000  421570.000000  421570.000000     421570.000000   \n",
       "mean       22.200546  136727.915739      44.260317      15981.258123   \n",
       "std        12.785297   60980.583328      30.492054      22711.183519   \n",
       "min         1.000000   34875.000000       1.000000      -4988.940000   \n",
       "25%        11.000000   93638.000000      18.000000       2079.650000   \n",
       "50%        22.000000  140167.000000      37.000000       7612.030000   \n",
       "75%        33.000000  202505.000000      74.000000      20205.852500   \n",
       "max        45.000000  219622.000000      99.000000     693099.360000   \n",
       "\n",
       "       Unemployment %            CPI  Temperature (F)     Fuel_Price  \n",
       "count   421570.000000  421570.000000    421570.000000  421570.000000  \n",
       "mean         7.636399     184.963878        61.266910       3.354980  \n",
       "std          0.888184      39.005405        18.198682       0.510137  \n",
       "min          4.420000     126.793400        19.530000       2.514000  \n",
       "25%          7.057000     135.446800        48.100000       2.759000  \n",
       "50%          7.771000     211.108414        64.520000       3.417000  \n",
       "75%          7.808000     219.355063        77.530000       3.796000  \n",
       "max         14.313000     222.074763        91.570000       4.211000  "
      ]
     },
     "execution_count": 59,
     "metadata": {},
     "output_type": "execute_result"
    }
   ],
   "source": [
    "sales.describe()"
   ]
  },
  {
   "cell_type": "code",
   "execution_count": 62,
   "metadata": {},
   "outputs": [
    {
     "name": "stdout",
     "output_type": "stream",
     "text": [
      "[ 1  2  3  4  5  6  7  8  9 10 11 12 13 14 15 16 17 18 19 20 21 22 23 24\n",
      " 25 26 27 28 29 30 31 32 33 34 35 36 37 38 39 40 41 42 43 44 45]\n",
      "[ 1  2  3  4  5  6  7  8  9 10 11 12 13 14 16 17 18 19 20 21 22 23 24 25\n",
      " 26 27 28 29 30 31 32 33 34 35 36 37 38 40 41 42 44 45 46 47 48 49 51 52\n",
      " 54 55 56 58 59 60 67 71 72 74 77 78 79 80 81 82 83 85 87 90 91 92 93 94\n",
      " 95 96 97 98 99 39 50 43 65]\n"
     ]
    }
   ],
   "source": [
    "print(sales['Store ID'].unique())\n",
    "print(sales['Dept ID'].unique())"
   ]
  },
  {
   "cell_type": "code",
   "execution_count": 63,
   "metadata": {
    "collapsed": true,
    "jupyter": {
     "outputs_hidden": true
    }
   },
   "outputs": [
    {
     "data": {
      "text/plain": [
       "0        2010-02-05\n",
       "1        2010-02-12\n",
       "2        2010-02-19\n",
       "3        2010-02-26\n",
       "4        2010-03-05\n",
       "            ...    \n",
       "421565   2012-09-28\n",
       "421566   2012-10-05\n",
       "421567   2012-10-12\n",
       "421568   2012-10-19\n",
       "421569   2012-10-26\n",
       "Name: Date, Length: 421570, dtype: datetime64[ns]"
      ]
     },
     "execution_count": 63,
     "metadata": {},
     "output_type": "execute_result"
    }
   ],
   "source": [
    "sales['Date']"
   ]
  },
  {
   "cell_type": "code",
   "execution_count": 5,
   "metadata": {
    "collapsed": true,
    "jupyter": {
     "outputs_hidden": true
    }
   },
   "outputs": [
    {
     "data": {
      "text/plain": [
       "count    421570.000000\n",
       "mean      15981.258123\n",
       "std       22711.183519\n",
       "min       -4988.940000\n",
       "25%        2079.650000\n",
       "50%        7612.030000\n",
       "75%       20205.852500\n",
       "max      693099.360000\n",
       "Name: Weekly_Sales ($), dtype: float64"
      ]
     },
     "execution_count": 5,
     "metadata": {},
     "output_type": "execute_result"
    }
   ],
   "source": [
    "sales['Weekly_Sales ($)'].describe()"
   ]
  },
  {
   "cell_type": "code",
   "execution_count": 6,
   "metadata": {
    "collapsed": true,
    "jupyter": {
     "outputs_hidden": true
    }
   },
   "outputs": [
    {
     "name": "stdout",
     "output_type": "stream",
     "text": [
      "Store ID            163\n",
      "store size          163\n",
      "Dept ID             163\n",
      "Date                163\n",
      "Weekly_Sales ($)    163\n",
      "IsHoliday           163\n",
      "Unemployment %      163\n",
      "CPI                 163\n",
      "Temperature (F)     163\n",
      "Fuel_Price          163\n",
      "dtype: int64\n"
     ]
    }
   ],
   "source": [
    "under_zero= sales[sales['Weekly_Sales ($)']<0].index\n",
    "outlier= sales[sales['Weekly_Sales ($)']>200000].count()\n",
    "print(outlier)"
   ]
  },
  {
   "cell_type": "code",
   "execution_count": 7,
   "metadata": {
    "collapsed": true,
    "jupyter": {
     "outputs_hidden": true
    }
   },
   "outputs": [
    {
     "data": {
      "text/plain": [
       "count    420285.000000\n",
       "mean      16030.329773\n",
       "std       22728.500149\n",
       "min           0.000000\n",
       "25%        2117.560000\n",
       "50%        7659.090000\n",
       "75%       20268.380000\n",
       "max      693099.360000\n",
       "Name: Weekly_Sales ($), dtype: float64"
      ]
     },
     "execution_count": 7,
     "metadata": {},
     "output_type": "execute_result"
    }
   ],
   "source": [
    "sales_=sales.drop(under_zero)\n",
    "sales_['Weekly_Sales ($)'].describe()"
   ]
  },
  {
   "cell_type": "markdown",
   "metadata": {},
   "source": [
    "## Sample Distribution, Normal Distribution, Simple Random Sampling for Confidence Interval"
   ]
  },
  {
   "cell_type": "code",
   "execution_count": 65,
   "metadata": {},
   "outputs": [
    {
     "name": "stdout",
     "output_type": "stream",
     "text": [
      "[14130, 19401, 17126, 16610, 22671, 12604, 15533, 15325, 17618, 20306, 15064, 16526, 16147, 11702, 17226, 21594, 18443, 20971, 19098, 14935, 15101, 25167, 17179, 15001, 21186, 10545, 18585, 19192, 16866, 14545]\n"
     ]
    }
   ],
   "source": [
    "xbar_=[]\n",
    "for i in range(30):\n",
    "    x_mean = round(sales_.sample(n=30,random_state=None)['Weekly_Sales ($)'].mean())\n",
    "    xbar_.append(x_mean)\n",
    "print(xbar_)"
   ]
  },
  {
   "cell_type": "code",
   "execution_count": 67,
   "metadata": {},
   "outputs": [
    {
     "data": {
      "image/png": "[encoded data removed]",
      "text/plain": [
       "<Figure size 432x288 with 1 Axes>"
      ]
     },
     "metadata": {
      "needs_background": "light"
     },
     "output_type": "display_data"
    }
   ],
   "source": [
    "plt.title('n=30, N=30')\n",
    "plt.plot(xbar_)\n",
    "plt.show()"
   ]
  },
  {
   "cell_type": "code",
   "execution_count": 45,
   "metadata": {},
   "outputs": [
    {
     "data": {
      "image/png": "[encoded data removed]",
      "text/plain": [
       "<Figure size 432x288 with 1 Axes>"
      ]
     },
     "metadata": {
      "needs_background": "light"
     },
     "output_type": "display_data"
    },
    {
     "name": "stdout",
     "output_type": "stream",
     "text": [
      "mean of mean of samples: 16860.5\n",
      "mean of population: 16030\n"
     ]
    }
   ],
   "source": [
    "plt.title('30 times repeat')\n",
    "plt.xlabel('Sales')\n",
    "plt.ylabel('Sample mean frequeny')\n",
    "\n",
    "plt.hist(xbar_)\n",
    "plt.show()\n",
    "print('mean of mean of samples: ' + str(np.array(xbar_).mean()))\n",
    "print('mean of population: 16030' )"
   ]
  },
  {
   "cell_type": "code",
   "execution_count": 46,
   "metadata": {},
   "outputs": [
    {
     "data": {
      "image/png": "[encoded data removed]",
      "text/plain": [
       "<Figure size 432x288 with 1 Axes>"
      ]
     },
     "metadata": {
      "needs_background": "light"
     },
     "output_type": "display_data"
    }
   ],
   "source": [
    "for i in range(100):\n",
    "    x_mean = round(sales_.sample(n=30,random_state=None)['Weekly_Sales ($)'].mean())\n",
    "    xbar_.append(x_mean)\n",
    "plt.title('100 times repeat')\n",
    "plt.xlabel('Sales')\n",
    "plt.ylabel('Sample mean frequeny')\n",
    "\n",
    "plt.hist(xbar_)\n",
    "plt.show()"
   ]
  },
  {
   "cell_type": "code",
   "execution_count": 47,
   "metadata": {},
   "outputs": [
    {
     "data": {
      "text/plain": [
       "<matplotlib.axes._subplots.AxesSubplot at 0x253c1f00588>"
      ]
     },
     "execution_count": 47,
     "metadata": {},
     "output_type": "execute_result"
    },
    {
     "data": {
      "image/png": "[encoded data removed]",
      "text/plain": [
       "<Figure size 432x288 with 1 Axes>"
      ]
     },
     "metadata": {
      "needs_background": "light"
     },
     "output_type": "display_data"
    }
   ],
   "source": [
    "for i in range(200):\n",
    "    x_mean = round(sales_.sample(n=30,random_state=None)['Weekly_Sales ($)'].mean())\n",
    "    xbar_.append(x_mean)\n",
    "plt.title('200 times repeat')\n",
    "plt.xlabel('Sales')\n",
    "plt.ylabel('Sample mean Density')\n",
    "\n",
    "sns.distplot(xbar_, hist=True, kde=True, kde_kws = {'shade': True, 'linewidth': 3}, \n",
    "                  label = i)"
   ]
  },
  {
   "cell_type": "code",
   "execution_count": 9,
   "metadata": {},
   "outputs": [],
   "source": [
    "# Assume that we do not know mean and SD of population. \n",
    "# We are simple sampling twice, n size 30 and n size 100.\n",
    "# And we want to know mean and SD of sample.\n",
    "# I am going to estimate the range of mean of population with 95% confidence interval."
   ]
  },
  {
   "cell_type": "code",
   "execution_count": 68,
   "metadata": {},
   "outputs": [
    {
     "name": "stdout",
     "output_type": "stream",
     "text": [
      "20745.39033333333\n",
      "21802.54857833344\n",
      "95% confidence interval, 30 sample\n",
      "12488 < mu < 29003\n",
      "----------------------------------------------------------------------------------------------------\n",
      "99% confidence interval, 30 sample\n",
      "9616 < mu < 31874\n"
     ]
    }
   ],
   "source": [
    "xbar = sales_.sample(n=30, random_state=42)['Weekly_Sales ($)'].mean()\n",
    "sd = sales_.sample(n=30, random_state=42)['Weekly_Sales ($)'].std()\n",
    "print(xbar)\n",
    "print(sd)\n",
    "# DF = 30 - 1\n",
    "# T-table 95% two-tailed test alpha = 2.0452\n",
    "# T-table 99% two-tailed test alpha = 1.6991\n",
    "\n",
    "# 95% confident interval, sample size 30.\n",
    "print('95% confidence interval, 30 sample')\n",
    "print(str(round(xbar-2.0452 * sd/5.4)) + ' < mu < ' + str(round(xbar+2.0452 * sd/5.4)))\n",
    "\n",
    "# 99% confident interval, sample size 30.\n",
    "print('-'*100)\n",
    "print('99% confidence interval, 30 sample')\n",
    "print(str(round(xbar-2.7564 * sd/5.4)) + ' < mu < ' + str(round(xbar+2.7564 * sd/5.4)))\n",
    "\n",
    "# increased confident interval, widened mean of population range as well."
   ]
  },
  {
   "cell_type": "code",
   "execution_count": 69,
   "metadata": {},
   "outputs": [
    {
     "name": "stdout",
     "output_type": "stream",
     "text": [
      "17890.74\n",
      "22020.199130636836\n",
      "95% confidence interval, 100 sample\n",
      "13522 < mu < 22260\n",
      "----------------------------------------------------------------------------------------------------\n",
      "99% confidence interval, 100 sample\n",
      "12108 < mu < 23673\n"
     ]
    }
   ],
   "source": [
    "xbar2 = sales_.sample(n=100, random_state=42)['Weekly_Sales ($)'].mean()\n",
    "sd2 = sales_.sample(n=100, random_state=42)['Weekly_Sales ($)'].std()\n",
    "print(xbar2)\n",
    "print(sd2)\n",
    "\n",
    "# DF = 100 - 1\n",
    "# T-table 95% two-tailed test alpha = 1.984\n",
    "# T-table 99% two-tailed test alpha = 2.625\n",
    "\n",
    "# 95% confident interval, sample size 100.\n",
    "print('95% confidence interval, 100 sample')\n",
    "print(str(round(xbar2-1.984 * sd2/10)) + ' < mu < ' + str(round(xbar2+1.984 * sd2/10)))\n",
    "print('-'*100)\n",
    "\n",
    "# # 99% confident interval, sample size 100.\n",
    "print('99% confidence interval, 100 sample')\n",
    "print(str(round(xbar2- 2.6259 * sd2/10)) + ' < mu < ' + str(round(xbar2+ 2.6259 * sd2/10)))"
   ]
  }
 ],
 "metadata": {
  "kernelspec": {
   "display_name": "Python 3",
   "language": "python",
   "name": "python3"
  },
  "language_info": {
   "codemirror_mode": {
    "name": "ipython",
    "version": 3
   },
   "file_extension": ".py",
   "mimetype": "text/x-python",
   "name": "python",
   "nbconvert_exporter": "python",
   "pygments_lexer": "ipython3",
   "version": "3.7.4"
  }
 },
 "nbformat": 4,
 "nbformat_minor": 4
}
