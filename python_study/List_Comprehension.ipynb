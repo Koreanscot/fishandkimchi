{
 "cells": [
  {
   "cell_type": "markdown",
   "metadata": {},
   "source": [
    "# Source: https://wikidocs.net/22805"
   ]
  },
  {
   "cell_type": "code",
   "execution_count": 11,
   "metadata": {},
   "outputs": [],
   "source": [
    "numbers = []\n",
    "for i in range(1,20):\n",
    "    numbers.append(i)"
   ]
  },
  {
   "cell_type": "code",
   "execution_count": 12,
   "metadata": {},
   "outputs": [
    {
     "data": {
      "text/plain": [
       "[1, 2, 3, 4, 5, 6, 7, 8, 9, 10, 11, 12, 13, 14, 15, 16, 17, 18, 19]"
      ]
     },
     "execution_count": 12,
     "metadata": {},
     "output_type": "execute_result"
    }
   ],
   "source": [
    "numbers"
   ]
  },
  {
   "cell_type": "code",
   "execution_count": 13,
   "metadata": {},
   "outputs": [
    {
     "data": {
      "text/plain": [
       "[1, 2, 3, 4, 5, 6, 7, 8, 9, 10, 11, 12, 13, 14, 15, 16, 17, 18, 19, 20]"
      ]
     },
     "execution_count": 13,
     "metadata": {},
     "output_type": "execute_result"
    }
   ],
   "source": [
    "[x for x in range(1,21)]"
   ]
  },
  {
   "cell_type": "code",
   "execution_count": 14,
   "metadata": {},
   "outputs": [],
   "source": [
    "# for i in range(1,20) == for x in range(1,21)\n",
    "# x == i"
   ]
  },
  {
   "cell_type": "code",
   "execution_count": 17,
   "metadata": {},
   "outputs": [
    {
     "data": {
      "text/plain": [
       "[2, 4, 6, 8, 10, 12, 14, 16, 18, 20, 22, 24, 26, 28, 30, 32, 34, 36, 38, 40]"
      ]
     },
     "execution_count": 17,
     "metadata": {},
     "output_type": "execute_result"
    }
   ],
   "source": [
    "[2*x for x in range(1,21)]"
   ]
  },
  {
   "cell_type": "markdown",
   "metadata": {},
   "source": [
    "# Conditon"
   ]
  },
  {
   "cell_type": "code",
   "execution_count": 19,
   "metadata": {},
   "outputs": [],
   "source": [
    "even_numbers = []\n",
    "for n in range(1,21):\n",
    "    if n % 2 == 0:\n",
    "        even_numbers.append(n)"
   ]
  },
  {
   "cell_type": "code",
   "execution_count": 23,
   "metadata": {},
   "outputs": [
    {
     "data": {
      "text/plain": [
       "[2, 4, 6, 8, 10, 12, 14, 16, 18, 20]"
      ]
     },
     "execution_count": 23,
     "metadata": {},
     "output_type": "execute_result"
    }
   ],
   "source": [
    "[x \n",
    " for x in range(1,21) \n",
    " if x % 2 ==0]"
   ]
  },
  {
   "cell_type": "code",
   "execution_count": 25,
   "metadata": {},
   "outputs": [
    {
     "data": {
      "text/plain": [
       "[('wrap', 'apple'),\n",
       " ('wrap', 'ice'),\n",
       " ('wrap', 'coffee'),\n",
       " ('chicken', 'apple'),\n",
       " ('chicken', 'ice'),\n",
       " ('chicken', 'coffee'),\n",
       " ('pizza', 'apple'),\n",
       " ('pizza', 'ice'),\n",
       " ('pizza', 'coffee')]"
      ]
     },
     "execution_count": 25,
     "metadata": {},
     "output_type": "execute_result"
    }
   ],
   "source": [
    "[ (x,y) \n",
    " for x in ['wrap','chicken','pizza'] \n",
    " for y in ['apple','ice','coffee']]"
   ]
  },
  {
   "cell_type": "code",
   "execution_count": 26,
   "metadata": {},
   "outputs": [
    {
     "data": {
      "text/plain": [
       "[('wrap', 'delivery', 'apple'),\n",
       " ('wrap', 'sit in', 'apple'),\n",
       " ('wrap', 'delivery', 'ice'),\n",
       " ('wrap', 'sit in', 'ice'),\n",
       " ('wrap', 'delivery', 'coffee'),\n",
       " ('wrap', 'sit in', 'coffee'),\n",
       " ('chicken', 'delivery', 'apple'),\n",
       " ('chicken', 'sit in', 'apple'),\n",
       " ('chicken', 'delivery', 'ice'),\n",
       " ('chicken', 'sit in', 'ice'),\n",
       " ('chicken', 'delivery', 'coffee'),\n",
       " ('chicken', 'sit in', 'coffee'),\n",
       " ('pizza', 'delivery', 'apple'),\n",
       " ('pizza', 'sit in', 'apple'),\n",
       " ('pizza', 'delivery', 'ice'),\n",
       " ('pizza', 'sit in', 'ice'),\n",
       " ('pizza', 'delivery', 'coffee'),\n",
       " ('pizza', 'sit in', 'coffee')]"
      ]
     },
     "execution_count": 26,
     "metadata": {},
     "output_type": "execute_result"
    }
   ],
   "source": [
    "[ (x,z,y) for x in ['wrap','chicken','pizza'] for y in ['apple','ice','coffee'] for z in ['delivery','sit in']]"
   ]
  },
  {
   "cell_type": "code",
   "execution_count": 28,
   "metadata": {},
   "outputs": [
    {
     "name": "stdout",
     "output_type": "stream",
     "text": [
      "wrap delivery apple\n",
      "wrap sit in apple\n",
      "wrap delivery ice\n",
      "wrap sit in ice\n",
      "wrap delivery coffee\n",
      "wrap sit in coffee\n",
      "chicken delivery apple\n",
      "chicken sit in apple\n",
      "chicken delivery ice\n",
      "chicken sit in ice\n",
      "chicken delivery coffee\n",
      "chicken sit in coffee\n",
      "pizza delivery apple\n",
      "pizza sit in apple\n",
      "pizza delivery ice\n",
      "pizza sit in ice\n",
      "pizza delivery coffee\n",
      "pizza sit in coffee\n"
     ]
    }
   ],
   "source": [
    "for x in ['wrap','chicken','pizza']:\n",
    "    for y in ['apple','ice','coffee']:\n",
    "        for z in ['delivery','sit in']:\n",
    "            print(x,z,y)"
   ]
  },
  {
   "cell_type": "code",
   "execution_count": 31,
   "metadata": {},
   "outputs": [
    {
     "data": {
      "text/plain": [
       "[0, 2, 4]"
      ]
     },
     "execution_count": 31,
     "metadata": {},
     "output_type": "execute_result"
    }
   ],
   "source": [
    "[ x \n",
    " for x in range(10) \n",
    " if x < 5 \n",
    " if x % 2 == 0]"
   ]
  },
  {
   "cell_type": "code",
   "execution_count": null,
   "metadata": {},
   "outputs": [],
   "source": []
  }
 ],
 "metadata": {
  "kernelspec": {
   "display_name": "Python 3",
   "language": "python",
   "name": "python3"
  },
  "language_info": {
   "codemirror_mode": {
    "name": "ipython",
    "version": 3
   },
   "file_extension": ".py",
   "mimetype": "text/x-python",
   "name": "python",
   "nbconvert_exporter": "python",
   "pygments_lexer": "ipython3",
   "version": "3.7.3"
  }
 },
 "nbformat": 4,
 "nbformat_minor": 4
}
