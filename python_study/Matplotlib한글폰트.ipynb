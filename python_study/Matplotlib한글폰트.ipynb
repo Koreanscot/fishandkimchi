{
 "cells": [
  {
   "cell_type": "code",
   "execution_count": 8,
   "metadata": {},
   "outputs": [],
   "source": [
    "%matplotlib inline\n",
    "import matplotlib as mpl\n",
    "import matplotlib.pyplot as plt\n",
    "import matplotlib.font_manager as fm"
   ]
  },
  {
   "cell_type": "code",
   "execution_count": 9,
   "metadata": {},
   "outputs": [
    {
     "data": {
      "text/plain": [
       "array([   8,   16,  -50,  -60, -147,  -95,  -88,  -11,   42,  141,   89,\n",
       "         62,   24,   92,   99,   97,  196,  111,  153,  222,  282,  243,\n",
       "        276,  183,  218,  185,  132,  140,   98,   26,   56,   83,   -9,\n",
       "         -4,   91,   82,   25,  -44,  -85, -134, -119, -152,  -92, -185,\n",
       "       -107,  -21,  -12,   83,  134,  198], dtype=int32)"
      ]
     },
     "execution_count": 9,
     "metadata": {},
     "output_type": "execute_result"
    }
   ],
   "source": [
    "import numpy as np\n",
    "\n",
    "data = np.random.randint(-100, 100, 50).cumsum()\n",
    "data"
   ]
  },
  {
   "cell_type": "code",
   "execution_count": 10,
   "metadata": {},
   "outputs": [
    {
     "data": {
      "text/plain": [
       "Text(0.5, 0, '시간(분)')"
      ]
     },
     "execution_count": 10,
     "metadata": {},
     "output_type": "execute_result"
    },
    {
     "data": {
      "image/png": "[encoded data removed]",
      "text/plain": [
       "<Figure size 432x288 with 1 Axes>"
      ]
     },
     "metadata": {
      "needs_background": "light"
     },
     "output_type": "display_data"
    }
   ],
   "source": [
    "plt.plot(range(50), data, 'r')\n",
    "mpl.rcParams['axes.unicode_minus'] = False\n",
    "plt.title('시간별 가격 추이')\n",
    "plt.ylabel('주식 가격')\n",
    "plt.xlabel('시간(분)')"
   ]
  },
  {
   "cell_type": "code",
   "execution_count": 11,
   "metadata": {},
   "outputs": [
    {
     "name": "stdout",
     "output_type": "stream",
     "text": [
      "버전:  3.0.1\n",
      "설치 위치:  c:\\users\\aaron\\appdata\\local\\programs\\python\\python36\\lib\\site-packages\\matplotlib\\__init__.py\n",
      "설정 위치:  C:\\Users\\aaron\\.matplotlib\n",
      "캐시 위치:  C:\\Users\\aaron\\.matplotlib\n"
     ]
    }
   ],
   "source": [
    "print ('버전: ', mpl.__version__)\n",
    "print ('설치 위치: ', mpl.__file__)\n",
    "print ('설정 위치: ', mpl.get_configdir())\n",
    "print ('캐시 위치: ', mpl.get_cachedir())"
   ]
  },
  {
   "cell_type": "code",
   "execution_count": 12,
   "metadata": {},
   "outputs": [
    {
     "name": "stdout",
     "output_type": "stream",
     "text": [
      "설정파일 위치:  c:\\users\\aaron\\appdata\\local\\programs\\python\\python36\\lib\\site-packages\\matplotlib\\mpl-data\\matplotlibrc\n"
     ]
    }
   ],
   "source": [
    "print ('설정파일 위치: ', mpl.matplotlib_fname())"
   ]
  },
  {
   "cell_type": "code",
   "execution_count": 13,
   "metadata": {},
   "outputs": [
    {
     "data": {
      "text/plain": [
       "[<Font 'cmsy10' (cmsy10.ttf) normal normal 400 normal>,\n",
       " <Font 'STIXGeneral' (STIXGeneralItalic.ttf) italic normal 400 normal>,\n",
       " <Font 'STIXSizeFiveSym' (STIXSizFiveSymReg.ttf) normal normal regular normal>,\n",
       " <Font 'STIXGeneral' (STIXGeneralBolIta.ttf) italic normal bold normal>,\n",
       " <Font 'STIXNonUnicode' (STIXNonUniIta.ttf) italic normal 400 normal>,\n",
       " <Font 'DejaVu Serif' (DejaVuSerif.ttf) normal normal 400 normal>,\n",
       " <Font 'DejaVu Sans Mono' (DejaVuSansMono-BoldOblique.ttf) oblique normal bold normal>,\n",
       " <Font 'STIXSizeThreeSym' (STIXSizThreeSymBol.ttf) normal normal bold normal>,\n",
       " <Font 'STIXSizeTwoSym' (STIXSizTwoSymReg.ttf) normal normal regular normal>,\n",
       " <Font 'DejaVu Sans' (DejaVuSans-Oblique.ttf) oblique normal 400 normal>,\n",
       " <Font 'STIXGeneral' (STIXGeneralBol.ttf) normal normal bold normal>,\n",
       " <Font 'DejaVu Sans' (DejaVuSans-Bold.ttf) normal normal bold normal>,\n",
       " <Font 'STIXSizeFourSym' (STIXSizFourSymBol.ttf) normal normal bold normal>,\n",
       " <Font 'STIXSizeTwoSym' (STIXSizTwoSymBol.ttf) normal normal bold normal>,\n",
       " <Font 'cmmi10' (cmmi10.ttf) normal normal 400 normal>,\n",
       " <Font 'DejaVu Sans' (DejaVuSans.ttf) normal normal 400 normal>,\n",
       " <Font 'DejaVu Sans Mono' (DejaVuSansMono-Bold.ttf) normal normal bold normal>,\n",
       " <Font 'STIXSizeFourSym' (STIXSizFourSymReg.ttf) normal normal regular normal>,\n",
       " <Font 'cmss10' (cmss10.ttf) normal normal 400 normal>,\n",
       " <Font 'cmb10' (cmb10.ttf) normal normal 400 normal>,\n",
       " <Font 'STIXNonUnicode' (STIXNonUniBol.ttf) normal normal bold normal>,\n",
       " <Font 'DejaVu Serif' (DejaVuSerif-Italic.ttf) italic normal 400 normal>,\n",
       " <Font 'cmr10' (cmr10.ttf) normal normal 400 normal>,\n",
       " <Font 'DejaVu Serif' (DejaVuSerif-Bold.ttf) normal normal bold normal>,\n",
       " <Font 'cmex10' (cmex10.ttf) normal normal 400 normal>,\n",
       " <Font 'STIXNonUnicode' (STIXNonUni.ttf) normal normal regular normal>,\n",
       " <Font 'DejaVu Sans' (DejaVuSans-BoldOblique.ttf) oblique normal bold normal>,\n",
       " <Font 'DejaVu Serif Display' (DejaVuSerifDisplay.ttf) normal normal 400 normal>,\n",
       " <Font 'STIXSizeOneSym' (STIXSizOneSymBol.ttf) normal normal bold normal>,\n",
       " <Font 'STIXSizeThreeSym' (STIXSizThreeSymReg.ttf) normal normal regular normal>,\n",
       " <Font 'DejaVu Sans Mono' (DejaVuSansMono-Oblique.ttf) oblique normal 400 normal>,\n",
       " <Font 'DejaVu Serif' (DejaVuSerif-BoldItalic.ttf) italic normal bold normal>,\n",
       " <Font 'DejaVu Sans Display' (DejaVuSansDisplay.ttf) normal normal 400 normal>,\n",
       " <Font 'DejaVu Sans Mono' (DejaVuSansMono.ttf) normal normal 400 normal>,\n",
       " <Font 'STIXGeneral' (STIXGeneral.ttf) normal normal regular normal>,\n",
       " <Font 'cmtt10' (cmtt10.ttf) normal normal 400 normal>,\n",
       " <Font 'STIXNonUnicode' (STIXNonUniBolIta.ttf) italic normal bold normal>,\n",
       " <Font 'STIXSizeOneSym' (STIXSizOneSymReg.ttf) normal normal regular normal>,\n",
       " <Font 'Microsoft Yi Baiti' (msyi.ttf) normal normal 400 normal>,\n",
       " <Font 'Calibri' (calibrili.ttf) italic normal light normal>,\n",
       " <Font 'Candara' (Candara.ttf) normal normal 400 normal>,\n",
       " <Font 'HCR Batang Ext' (HANBatangExt.ttf) normal normal 400 normal>,\n",
       " <Font 'SimSun-ExtB' (simsunb.ttf) normal normal 400 normal>,\n",
       " <Font 'Myanmar Text' (mmrtext.ttf) normal normal 400 normal>,\n",
       " <Font 'HCR Batang ExtB' (HANBatangExtB.ttf) normal normal 400 normal>,\n",
       " <Font 'Nirmala UI' (NirmalaS.ttf) normal normal light normal>,\n",
       " <Font 'Consolas' (consolab.ttf) normal normal bold normal>,\n",
       " <Font 'Constantia' (constanz.ttf) italic normal bold normal>,\n",
       " <Font 'Javanese Text' (javatext.ttf) normal normal 400 normal>,\n",
       " <Font 'Trebuchet MS' (trebucbi.ttf) italic normal bold normal>,\n",
       " <Font 'Lucida Console' (lucon.ttf) normal normal 400 normal>,\n",
       " <Font 'Cambria' (cambriaz.ttf) italic normal bold normal>,\n",
       " <Font 'Segoe UI Symbol' (seguisym.ttf) normal normal 400 normal>,\n",
       " <Font 'Calibri' (calibrib.ttf) normal normal bold normal>,\n",
       " <Font 'HCR Dotum Ext' (HANDotumExt.ttf) normal normal 400 normal>,\n",
       " <Font 'Comic Sans MS' (comic.ttf) normal normal 400 normal>,\n",
       " <Font 'Times New Roman' (timesi.ttf) italic normal roman normal>,\n",
       " <Font 'Corbel' (corbel.ttf) normal normal 400 normal>,\n",
       " <Font 'HCR Dotum' (HANDotum.ttf) normal normal 400 normal>,\n",
       " <Font 'Myanmar Text' (mmrtextb.ttf) normal normal bold normal>,\n",
       " <Font 'Malgun Gothic' (malgun.ttf) normal normal 400 normal>,\n",
       " <Font 'Comic Sans MS' (comici.ttf) italic normal 400 normal>,\n",
       " <Font 'Leelawadee UI' (LeelaUIb.ttf) normal normal 700 normal>,\n",
       " <Font 'Segoe UI' (segoeuii.ttf) italic normal 400 normal>,\n",
       " <Font 'Corbel' (corbelb.ttf) normal normal bold normal>,\n",
       " <Font 'Tahoma' (tahomabd.ttf) normal normal 700 normal>,\n",
       " <Font 'Segoe Script' (segoesc.ttf) normal normal 400 normal>,\n",
       " <Font 'Constantia' (constanb.ttf) normal normal bold normal>,\n",
       " <Font 'Trebuchet MS' (trebucit.ttf) italic normal 400 normal>,\n",
       " <Font 'Nirmala UI' (Nirmala.ttf) normal normal 400 normal>,\n",
       " <Font 'Arial' (ariali.ttf) italic normal 400 normal>,\n",
       " <Font 'Tahoma' (tahoma.ttf) normal normal 400 normal>,\n",
       " <Font 'MV Boli' (mvboli.ttf) normal normal 400 normal>,\n",
       " <Font 'Calibri' (calibril.ttf) normal normal light normal>,\n",
       " <Font 'Segoe UI' (seguibli.ttf) italic normal 400 normal>,\n",
       " <Font 'Nirmala UI' (NirmalaB.ttf) normal normal bold normal>,\n",
       " <Font 'Courier New' (courbd.ttf) normal normal bold normal>,\n",
       " <Font 'HCR Batang' (HANBatangB.ttf) normal normal bold normal>,\n",
       " <Font 'Wingdings' (wingding.ttf) normal normal 400 normal>,\n",
       " <Font 'Segoe UI' (seguisb.ttf) normal normal 400 normal>,\n",
       " <Font 'Segoe UI' (seguili.ttf) italic normal light normal>,\n",
       " <Font 'Constantia' (constani.ttf) italic normal 400 normal>,\n",
       " <Font 'Ebrima' (ebrima.ttf) normal normal 400 normal>,\n",
       " <Font 'Consolas' (consolaz.ttf) italic normal bold normal>,\n",
       " <Font 'HCR Batang' (HANBatang.ttf) normal normal 400 normal>,\n",
       " <Font 'Marlett' (marlett.ttf) normal normal 400 normal>,\n",
       " <Font 'Microsoft Himalaya' (himalaya.ttf) normal normal 400 normal>,\n",
       " <Font 'HCR Batang ExtB' (HANBatangExtBB.ttf) normal normal 700 normal>,\n",
       " <Font 'Malgun Gothic' (malgunsl.ttf) normal normal light normal>,\n",
       " <Font 'Lucida Sans Unicode' (l_10646.ttf) normal normal 400 normal>,\n",
       " <Font 'Bahnschrift' (bahnschrift.ttf) normal normal 400 normal>,\n",
       " <Font 'Courier New' (cour.ttf) normal normal 400 normal>,\n",
       " <Font 'Symbol' (symbol.ttf) normal normal 400 normal>,\n",
       " <Font 'Leelawadee UI' (LeelawUI.ttf) normal normal 400 normal>,\n",
       " <Font 'Franklin Gothic Medium' (framdit.ttf) italic normal medium normal>,\n",
       " <Font 'Palatino Linotype' (palai.ttf) italic normal 400 normal>,\n",
       " <Font 'Microsoft Tai Le' (taileb.ttf) normal normal bold normal>,\n",
       " <Font 'Trebuchet MS' (trebuc.ttf) normal normal 400 normal>,\n",
       " <Font 'Microsoft PhagsPa' (phagspa.ttf) normal normal 400 normal>,\n",
       " <Font 'Calibri' (calibriz.ttf) italic normal bold normal>,\n",
       " <Font 'Georgia' (georgia.ttf) normal normal 400 normal>,\n",
       " <Font 'Arial' (arialbi.ttf) italic normal bold normal>,\n",
       " <Font 'Segoe UI' (segoeuiz.ttf) italic normal bold normal>,\n",
       " <Font 'Georgia' (georgiaz.ttf) italic normal bold normal>,\n",
       " <Font 'Sylfaen' (sylfaen.ttf) normal normal 400 normal>,\n",
       " <Font 'Times New Roman' (timesbi.ttf) italic normal roman normal>,\n",
       " <Font 'Georgia' (georgiab.ttf) normal normal bold normal>,\n",
       " <Font 'Palatino Linotype' (pala.ttf) normal normal 400 normal>,\n",
       " <Font 'Franklin Gothic Medium' (framd.ttf) normal normal medium normal>,\n",
       " <Font 'Segoe UI' (segoeui.ttf) normal normal 400 normal>,\n",
       " <Font 'Arial' (arialbd.ttf) normal normal bold normal>,\n",
       " <Font 'Verdana' (verdanab.ttf) normal normal bold normal>,\n",
       " <Font 'Courier New' (couri.ttf) italic normal 400 normal>,\n",
       " <Font 'Microsoft Sans Serif' (micross.ttf) normal normal 400 normal>,\n",
       " <Font 'Segoe UI Historic' (seguihis.ttf) normal normal 400 normal>,\n",
       " <Font 'Consolas' (consolai.ttf) italic normal 400 normal>,\n",
       " <Font 'HCR Dotum' (HANDotumB.ttf) normal normal bold normal>,\n",
       " <Font 'Candara' (Candarab.ttf) normal normal bold normal>,\n",
       " <Font 'Segoe UI' (segoeuil.ttf) normal normal 400 normal>,\n",
       " <Font 'Webdings' (webdings.ttf) normal normal 400 normal>,\n",
       " <Font 'Calibri' (calibri.ttf) normal normal 400 normal>,\n",
       " <Font 'Trebuchet MS' (trebucbd.ttf) normal normal bold normal>,\n",
       " <Font 'Verdana' (verdana.ttf) normal normal 400 normal>,\n",
       " <Font 'Microsoft New Tai Lue' (ntailu.ttf) normal normal 400 normal>,\n",
       " <Font 'Segoe UI' (seguisli.ttf) italic normal light normal>,\n",
       " <Font 'Mongolian Baiti' (monbaiti.ttf) normal normal 400 normal>,\n",
       " <Font 'Consolas' (consola.ttf) normal normal 400 normal>,\n",
       " <Font 'Cambria' (cambriab.ttf) normal normal bold normal>,\n",
       " <Font 'Corbel' (corbelz.ttf) italic normal bold normal>,\n",
       " <Font 'Segoe UI' (segoeuisl.ttf) normal normal 400 normal>,\n",
       " <Font 'Leelawadee UI' (LeelUIsl.ttf) normal normal 400 normal>,\n",
       " <Font 'Times New Roman' (times.ttf) normal normal roman normal>,\n",
       " <Font 'Segoe MDL2 Assets' (segmdl2.ttf) normal normal 400 normal>,\n",
       " <Font 'Arial' (arial.ttf) normal normal 400 normal>,\n",
       " <Font 'Segoe UI' (seguibl.ttf) normal normal 400 normal>,\n",
       " <Font 'Malgun Gothic' (malgunbd.ttf) normal normal bold normal>,\n",
       " <Font 'Comic Sans MS' (comicz.ttf) italic normal bold normal>,\n",
       " <Font 'Gadugi' (gadugi.ttf) normal normal 400 normal>,\n",
       " <Font 'Microsoft Tai Le' (taile.ttf) normal normal 400 normal>,\n",
       " <Font 'Constantia' (constan.ttf) normal normal 400 normal>,\n",
       " <Font 'Segoe Print' (segoepr.ttf) normal normal 400 normal>,\n",
       " <Font 'Segoe UI' (segoeuib.ttf) normal normal 700 normal>,\n",
       " <Font 'Candara' (Candarai.ttf) italic normal 400 normal>,\n",
       " <Font 'Arial' (ariblk.ttf) normal normal black normal>,\n",
       " <Font 'Courier New' (courbi.ttf) italic normal bold normal>,\n",
       " <Font 'Ebrima' (ebrimabd.ttf) normal normal 700 normal>,\n",
       " <Font 'Palatino Linotype' (palab.ttf) normal normal bold normal>,\n",
       " <Font 'Candara' (Candaraz.ttf) italic normal bold normal>,\n",
       " <Font 'Microsoft New Tai Lue' (ntailub.ttf) normal normal bold normal>,\n",
       " <Font 'Cambria' (cambriai.ttf) italic normal 400 normal>,\n",
       " <Font 'Microsoft PhagsPa' (phagspab.ttf) normal normal bold normal>,\n",
       " <Font 'Georgia' (georgiai.ttf) italic normal 400 normal>,\n",
       " <Font 'HoloLens MDL2 Assets' (holomdl2.ttf) normal normal 400 normal>,\n",
       " <Font 'Segoe UI' (seguisbi.ttf) italic normal semibold normal>,\n",
       " <Font 'Segoe Print' (segoeprb.ttf) normal normal bold normal>,\n",
       " <Font 'Corbel' (corbeli.ttf) italic normal 400 normal>,\n",
       " <Font 'Ink Free' (Inkfree.ttf) normal normal 400 normal>,\n",
       " <Font 'Palatino Linotype' (palabi.ttf) italic normal bold normal>,\n",
       " <Font 'Times New Roman' (timesbd.ttf) normal normal roman normal>,\n",
       " <Font 'Segoe UI Emoji' (seguiemj.ttf) normal normal 400 normal>,\n",
       " <Font 'Comic Sans MS' (comicbd.ttf) normal normal bold normal>,\n",
       " <Font 'Gabriola' (Gabriola.ttf) normal normal 400 normal>,\n",
       " <Font 'Gadugi' (gadugib.ttf) normal normal bold normal>,\n",
       " <Font 'Impact' (impact.ttf) normal normal 400 normal>,\n",
       " <Font 'Segoe Script' (segoescb.ttf) normal normal bold normal>,\n",
       " <Font 'Calibri' (calibrii.ttf) italic normal 400 normal>,\n",
       " <Font 'Verdana' (verdanaz.ttf) italic normal bold normal>,\n",
       " <Font 'Verdana' (verdanai.ttf) italic normal 400 normal>]"
      ]
     },
     "execution_count": 13,
     "metadata": {},
     "output_type": "execute_result"
    }
   ],
   "source": [
    "font_list =  fm.fontManager.ttflist   \n",
    "font_list[:]"
   ]
  },
  {
   "cell_type": "code",
   "execution_count": 14,
   "metadata": {},
   "outputs": [],
   "source": [
    "plt.rcParams[\"font.family\"] = \"Malgun Gothic\""
   ]
  },
  {
   "cell_type": "code",
   "execution_count": 15,
   "metadata": {},
   "outputs": [
    {
     "data": {
      "text/plain": [
       "Text(0.5, 0, '시간(분)')"
      ]
     },
     "execution_count": 15,
     "metadata": {},
     "output_type": "execute_result"
    },
    {
     "data": {
      "image/png": "[encoded data removed]",
      "text/plain": [
       "<Figure size 432x288 with 1 Axes>"
      ]
     },
     "metadata": {
      "needs_background": "light"
     },
     "output_type": "display_data"
    }
   ],
   "source": [
    "plt.plot(range(50), data, 'r')\n",
    "mpl.rcParams['axes.unicode_minus'] = False\n",
    "plt.title('시간별 가격 추이')\n",
    "plt.ylabel('주식 가격')\n",
    "plt.xlabel('시간(분)')"
   ]
  }
 ],
 "metadata": {
  "kernelspec": {
   "display_name": "Python 3",
   "language": "python",
   "name": "python3"
  },
  "language_info": {
   "codemirror_mode": {
    "name": "ipython",
    "version": 3
   },
   "file_extension": ".py",
   "mimetype": "text/x-python",
   "name": "python",
   "nbconvert_exporter": "python",
   "pygments_lexer": "ipython3",
   "version": "3.6.7"
  }
 },
 "nbformat": 4,
 "nbformat_minor": 2
}
