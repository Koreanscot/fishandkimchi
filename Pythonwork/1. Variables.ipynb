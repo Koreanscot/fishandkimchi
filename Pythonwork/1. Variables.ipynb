{
 "cells": [
  {
   "cell_type": "code",
   "execution_count": 2,
   "metadata": {},
   "outputs": [
    {
     "name": "stdout",
     "output_type": "stream",
     "text": [
      "1\n",
      "1\n",
      "1 1\n",
      "1 와 1\n"
     ]
    }
   ],
   "source": [
    "a=1\n",
    "print(a)\n",
    "b=1\n",
    "print(b)\n",
    "print(a,b)\n",
    "print(a,'와',b)"
   ]
  },
  {
   "cell_type": "code",
   "execution_count": 3,
   "metadata": {},
   "outputs": [
    {
     "data": {
      "text/plain": [
       "int"
      ]
     },
     "execution_count": 3,
     "metadata": {},
     "output_type": "execute_result"
    }
   ],
   "source": [
    "a=10\n",
    "type(a)"
   ]
  },
  {
   "cell_type": "code",
   "execution_count": 8,
   "metadata": {},
   "outputs": [
    {
     "name": "stdout",
     "output_type": "stream",
     "text": [
      "<class 'tuple'>\n",
      "<class 'str'>\n",
      "<class 'float'>\n"
     ]
    },
    {
     "data": {
      "text/plain": [
       "int"
      ]
     },
     "execution_count": 8,
     "metadata": {},
     "output_type": "execute_result"
    }
   ],
   "source": [
    "a=1,1\n",
    "print(type(a))\n",
    "a='가'\n",
    "print(type(a))\n",
    "a=3.14\n",
    "print(type(a))\n",
    "a=11\n",
    "type(a)"
   ]
  },
  {
   "cell_type": "code",
   "execution_count": 12,
   "metadata": {},
   "outputs": [
    {
     "name": "stdout",
     "output_type": "stream",
     "text": [
      "True\n",
      "False\n",
      "True\n",
      "140719650542528 140719650542528\n"
     ]
    }
   ],
   "source": [
    "# Varibles are impossible to modify.\n",
    "a = 10\n",
    "b = 10\n",
    "\n",
    "print(a is b)\n",
    "b=5\n",
    "print(a is b)\n",
    "\n",
    "a=b\n",
    "print(a is b)\n",
    "print(id(a), id(b))\n",
    "\n",
    "# At the same time, many variables assign one object\n",
    "a=b=c=d=10\n",
    "\n",
    "# many variables assign many objects\n",
    "a, b, c =10,11,12"
   ]
  },
  {
   "cell_type": "markdown",
   "metadata": {},
   "source": [
    "## Data Type\n",
    "\n",
    "### 1) Basic data type   \n",
    "basic data types are not possible to modify values   \n",
    "### 2) Group data type\n",
    "List, Tuple, Dict, Set\n",
    "\n",
    "## Depends on modification possibility\n",
    "1) possible : list, dict, set   \n",
    "2) impossible: int, float, complex, bool(True, False), str, tuple\n"
   ]
  },
  {
   "cell_type": "code",
   "execution_count": 15,
   "metadata": {},
   "outputs": [
    {
     "name": "stdout",
     "output_type": "stream",
     "text": [
      "Hello\n",
      "World\n"
     ]
    }
   ],
   "source": [
    "a = 'Hello'\n",
    "print(a)\n",
    "b = 'World'\n",
    "print(b)"
   ]
  },
  {
   "cell_type": "code",
   "execution_count": 31,
   "metadata": {},
   "outputs": [
    {
     "name": "stdout",
     "output_type": "stream",
     "text": [
      "many\n",
      "lines \n",
      "you can write down.\n",
      "Many sentences you \n",
      " can write\n",
      " \\ is double space function.\n",
      "------------------------------\n",
      " \\ is double space function.\n",
      "==================================================\n",
      "\"Is it?\"\n",
      "190\n",
      "10+20\n"
     ]
    }
   ],
   "source": [
    "# Str\n",
    "var1 = 'Python is very simple'\n",
    "var1 = '''many\n",
    "lines \n",
    "you can write down.'''\n",
    "print(var1)\n",
    "\n",
    "# Special str : \\\n",
    "var1 = \"Many sentences you \\n can write\"\n",
    "print(var1)\n",
    "# Escape :\\\n",
    "var1 =\" \\\\ is double space function.\"\n",
    "print(var1)\n",
    "print(\"-\"*30)\n",
    "var2=\"\"\"\n",
    "\"\\\\t\"is tab key function.\n",
    "\"\"\"\n",
    "print(var1)\n",
    "print(\"=\"*50)\n",
    "var3 = '\"Is it?\"'\n",
    "print(var3)\n",
    "\n",
    "# \\ is used when the sentence is too long\n",
    "var1 = 10 + 20*4 + 20 *\\\n",
    "+5\n",
    "print(var1)\n",
    "var1 = \"10+20\"\n",
    "print(var1)"
   ]
  },
  {
   "cell_type": "code",
   "execution_count": 48,
   "metadata": {},
   "outputs": [
    {
     "name": "stdout",
     "output_type": "stream",
     "text": [
      "Python is fun !100\n",
      "Python  is fun ! 100\n",
      "PythonPythonPython\n",
      "++++++++++++++++++++++++++++++++++++++++++++++++++\n",
      "o\n",
      "n o h\n",
      "shit off\n",
      "Life\n",
      "is too short, You need Python\n",
      "thon\n",
      "Life is too short, You need Python\n",
      "Python\n",
      "====================\n",
      "result : 3+2=7\n",
      "addresult : 3% + 4% = 7\n",
      "addresult : 3%+ 3%=6\n",
      "0003\n",
      "==============================\n",
      "2\n",
      "a,b,cdef\n",
      "['Life', 'is', 'too', 'short']\n",
      "['홍길동 ', ' 임꺽정 ', ' 신돌석']\n",
      "16\n",
      "15\n"
     ]
    }
   ],
   "source": [
    "# Concatenation\n",
    "head = \"Python\"\n",
    "tail = \" is fun !\"\n",
    "num = 100\n",
    "print(head + tail +\\\n",
    "     str(num))\n",
    "print(head,tail,str(num))\n",
    "a ='Python'\n",
    "\n",
    "print(a*3)\n",
    "print(\"+\"*50)\n",
    "\n",
    "# indexing\n",
    "a = \"Life is too short, You need Python\"\n",
    "print(a[10])\n",
    "print(a[-1],a[-2],a[-3])\n",
    "print(a[6]+a[13]+a[1]+a[16], a[9]+a[2]*2)\n",
    "\n",
    "# Slicing\n",
    "print(a[0:4])\n",
    "print(a[5:])\n",
    "print(a[-4:])\n",
    "print(a[:])\n",
    "\n",
    "# Impossible to modify the variable.\n",
    "a='Pithon'\n",
    "# a[1]='y'\n",
    "# print(a)\n",
    "\n",
    "b=a[:1]+'y'+a[2:]\n",
    "print(b)\n",
    "\n",
    "print\\\n",
    "('='*20)\n",
    "\n",
    "# formatting\n",
    "print(\"result : %d+%d=%d\"%(3, 2, 3+4))\n",
    "print(\"%sresult : %d%% + %d%% = %d\"%(\"add\", 3, 4, 3+4))\n",
    "print(\"{0}result : {1}%+ {1}%={2}\".format(\"add\", 3, 3+3))\n",
    "print(\"%0.4d\" %3.424)\n",
    "print(\"=\"*30)\n",
    "\n",
    "# Other functions\n",
    "# count()\n",
    "# find() : whether the str exist\n",
    "# index()\n",
    "a=\"hobby\"\n",
    "b=a.count('b')\n",
    "print(b)\n",
    "var1=\",\"\n",
    "var2=var1.join(\"abc\")\n",
    "var3=\" def\"\n",
    "var4=var3.lstrip()\n",
    "print(var2+var4)\n",
    "\n",
    "var1=\"Life is too short\"\n",
    "print(var1.split())\n",
    "var1=\"홍길동 : 임꺽정 : 신돌석\"\n",
    "var2=var1.split(\":\")\n",
    "print(var2)\n",
    "\n",
    "print(var1.count(\"\"))\n",
    "print(len(var1))#->전체 문자의 길이 재는법"
   ]
  },
  {
   "cell_type": "code",
   "execution_count": null,
   "metadata": {},
   "outputs": [],
   "source": []
  }
 ],
 "metadata": {
  "kernelspec": {
   "display_name": "Python 3",
   "language": "python",
   "name": "python3"
  },
  "language_info": {
   "codemirror_mode": {
    "name": "ipython",
    "version": 3
   },
   "file_extension": ".py",
   "mimetype": "text/x-python",
   "name": "python",
   "nbconvert_exporter": "python",
   "pygments_lexer": "ipython3",
   "version": "3.7.3"
  }
 },
 "nbformat": 4,
 "nbformat_minor": 4
}
