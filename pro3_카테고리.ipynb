{
 "cells": [
  {
   "cell_type": "code",
   "execution_count": 1,
   "metadata": {},
   "outputs": [],
   "source": [
    "import pandas as pd\n",
    "import numpy as np\n",
    "import seaborn as sns\n",
    "import matplotlib.pyplot as plt\n",
    "from matplotlib import font_manager, rc\n",
    "font_name = font_manager.FontProperties(fname=\"C:/Windows/Fonts/malgun.ttf\").get_name()\n",
    "sns.set(font_scale=1.3) \n",
    "rc(\"font\", family = font_name)"
   ]
  },
  {
   "cell_type": "code",
   "execution_count": 2,
   "metadata": {},
   "outputs": [
    {
     "name": "stderr",
     "output_type": "stream",
     "text": [
      "C:\\Users\\acorn\\Anaconda3\\lib\\site-packages\\numpy\\lib\\arraysetops.py:522: FutureWarning: elementwise comparison failed; returning scalar instead, but in the future will perform elementwise comparison\n",
      "  mask |= (ar1 == a)\n"
     ]
    }
   ],
   "source": [
    "prod = pd.read_csv('project/new_product.csv', index_col=0)\n",
    "master = pd.read_csv('project/new_master.csv', index_col=0)"
   ]
  },
  {
   "cell_type": "code",
   "execution_count": 3,
   "metadata": {},
   "outputs": [
    {
     "data": {
      "text/html": [
       "<div>\n",
       "<style scoped>\n",
       "    .dataframe tbody tr th:only-of-type {\n",
       "        vertical-align: middle;\n",
       "    }\n",
       "\n",
       "    .dataframe tbody tr th {\n",
       "        vertical-align: top;\n",
       "    }\n",
       "\n",
       "    .dataframe thead th {\n",
       "        text-align: right;\n",
       "    }\n",
       "</style>\n",
       "<table border=\"1\" class=\"dataframe\">\n",
       "  <thead>\n",
       "    <tr style=\"text-align: right;\">\n",
       "      <th></th>\n",
       "      <th>PD_C</th>\n",
       "      <th>PD_NM</th>\n",
       "      <th>CLAC1_NM</th>\n",
       "      <th>CLAC2_NM</th>\n",
       "      <th>CLAC3_NM</th>\n",
       "      <th>PD_BRA_NM</th>\n",
       "      <th>PD_BUY_AM</th>\n",
       "      <th>PD_BUY_CT</th>\n",
       "    </tr>\n",
       "  </thead>\n",
       "  <tbody>\n",
       "    <tr>\n",
       "      <th>0</th>\n",
       "      <td>64382</td>\n",
       "      <td>언더아머 남성 UA HG 아머 모크 LS 1289559-001 - 블랙 / MD[95]</td>\n",
       "      <td>스포츠패션</td>\n",
       "      <td>남성일반스포츠의류</td>\n",
       "      <td>남성스포츠티셔츠</td>\n",
       "      <td>언더아머</td>\n",
       "      <td>49000</td>\n",
       "      <td>3</td>\n",
       "    </tr>\n",
       "    <tr>\n",
       "      <th>1</th>\n",
       "      <td>62282</td>\n",
       "      <td>여자 플라워덧신 2족선물세트 17403-2set</td>\n",
       "      <td>속옷/양말/홈웨어</td>\n",
       "      <td>여성양말류</td>\n",
       "      <td>여성일반양말</td>\n",
       "      <td>안스엉클</td>\n",
       "      <td>10000</td>\n",
       "      <td>4</td>\n",
       "    </tr>\n",
       "    <tr>\n",
       "      <th>2</th>\n",
       "      <td>61729</td>\n",
       "      <td>88A2933253배트맨스웨트티 - 블랙 / 130</td>\n",
       "      <td>유아동의류</td>\n",
       "      <td>유아의류상의</td>\n",
       "      <td>영유아티셔츠/탑</td>\n",
       "      <td>래핑차일드</td>\n",
       "      <td>35000</td>\n",
       "      <td>1</td>\n",
       "    </tr>\n",
       "    <tr>\n",
       "      <th>3</th>\n",
       "      <td>61537</td>\n",
       "      <td>닥터마틴 아드리안 블랙, 체리레드 - 02_체리레드 / 250mm(6)</td>\n",
       "      <td>패션잡화</td>\n",
       "      <td>남성화</td>\n",
       "      <td>남성부츠</td>\n",
       "      <td>닥터마틴</td>\n",
       "      <td>139000</td>\n",
       "      <td>2</td>\n",
       "    </tr>\n",
       "    <tr>\n",
       "      <th>4</th>\n",
       "      <td>58820</td>\n",
       "      <td>여성 그레이 스트라이프 퍼프 소매 블라우스 (128865YQ33) - 회색(앤틱실버...</td>\n",
       "      <td>남성의류</td>\n",
       "      <td>남성의류상의</td>\n",
       "      <td>남성남방셔츠</td>\n",
       "      <td>에잇세컨즈</td>\n",
       "      <td>29900</td>\n",
       "      <td>3</td>\n",
       "    </tr>\n",
       "  </tbody>\n",
       "</table>\n",
       "</div>"
      ],
      "text/plain": [
       "    PD_C                                              PD_NM   CLAC1_NM  \\\n",
       "0  64382   언더아머 남성 UA HG 아머 모크 LS 1289559-001 - 블랙 / MD[95]      스포츠패션   \n",
       "1  62282                         여자 플라워덧신 2족선물세트 17403-2set  속옷/양말/홈웨어   \n",
       "2  61729                       88A2933253배트맨스웨트티 - 블랙 / 130      유아동의류   \n",
       "3  61537            닥터마틴 아드리안 블랙, 체리레드 - 02_체리레드 / 250mm(6)       패션잡화   \n",
       "4  58820  여성 그레이 스트라이프 퍼프 소매 블라우스 (128865YQ33) - 회색(앤틱실버...       남성의류   \n",
       "\n",
       "    CLAC2_NM  CLAC3_NM PD_BRA_NM  PD_BUY_AM  PD_BUY_CT  \n",
       "0  남성일반스포츠의류  남성스포츠티셔츠      언더아머      49000          3  \n",
       "1      여성양말류    여성일반양말      안스엉클      10000          4  \n",
       "2     유아의류상의  영유아티셔츠/탑     래핑차일드      35000          1  \n",
       "3        남성화      남성부츠      닥터마틴     139000          2  \n",
       "4     남성의류상의    남성남방셔츠     에잇세컨즈      29900          3  "
      ]
     },
     "execution_count": 3,
     "metadata": {},
     "output_type": "execute_result"
    }
   ],
   "source": [
    "master.head()"
   ]
  },
  {
   "cell_type": "code",
   "execution_count": 4,
   "metadata": {},
   "outputs": [],
   "source": [
    "q1 = pd.read_csv('project/q1.csv', index_col=0)\n",
    "q2 = pd.read_csv('project/q2.csv', index_col=0)\n",
    "q3 = pd.read_csv('project/q3.csv', index_col=0)\n",
    "q4 = pd.read_csv('project/q4.csv', index_col=0)"
   ]
  },
  {
   "cell_type": "code",
   "execution_count": 5,
   "metadata": {},
   "outputs": [],
   "source": [
    "prod_master = pd.merge(prod[['CLNT_ID', 'PD_BUY_CT','PD_C']], master[['PD_C', 'CLAC1_NM']], on='PD_C')"
   ]
  },
  {
   "cell_type": "code",
   "execution_count": 6,
   "metadata": {},
   "outputs": [],
   "source": [
    "target_prod_master = prod_master.pivot_table('PD_BUY_CT', 'CLNT_ID', 'CLAC1_NM', aggfunc='sum')"
   ]
  },
  {
   "cell_type": "code",
   "execution_count": 7,
   "metadata": {},
   "outputs": [
    {
     "data": {
      "text/plain": [
       "CLAC1_NM\n",
       "속옷/양말/홈웨어     128315.0\n",
       "화장품/뷰티케어      112867.0\n",
       "남성의류           93568.0\n",
       "스포츠패션          73492.0\n",
       "여성의류           72271.0\n",
       "패션잡화           57576.0\n",
       "유아동의류          57478.0\n",
       "출산/육아용품        43877.0\n",
       "원예/애완          42354.0\n",
       "퍼스널케어          38598.0\n",
       "건강식품           27873.0\n",
       "청소/세탁/욕실용품     26458.0\n",
       "식기/조리기구        22704.0\n",
       "시즌스포츠          22577.0\n",
       "침구/수예          16630.0\n",
       "문구/사무용품        12469.0\n",
       "완구             12374.0\n",
       "음료             11892.0\n",
       "주방잡화           10541.0\n",
       "세제/위생          10297.0\n",
       "가구              8888.0\n",
       "축산물             8714.0\n",
       "상품권             7110.0\n",
       "아웃도어/레저         7054.0\n",
       "냉동식품            6820.0\n",
       "구기/필드스포츠        6581.0\n",
       "과일              6528.0\n",
       "모바일             5088.0\n",
       "헬스/피트니스         5024.0\n",
       "생활/주방가전         4392.0\n",
       "컴퓨터             3246.0\n",
       "냉장식품            2537.0\n",
       "인테리어/조명         2024.0\n",
       "계절가전            1548.0\n",
       "영상/음향가전          710.0\n",
       "냉장/세탁가전          346.0\n",
       "자동차용품            111.0\n",
       "dtype: float64"
      ]
     },
     "execution_count": 7,
     "metadata": {},
     "output_type": "execute_result"
    }
   ],
   "source": [
    "a = target_prod_master.loc[q1.index]\n",
    "a.sum().sort_values(ascending=False)"
   ]
  },
  {
   "cell_type": "code",
   "execution_count": 8,
   "metadata": {},
   "outputs": [
    {
     "data": {
      "text/plain": [
       "CLAC1_NM\n",
       "화장품/뷰티케어      121083.0\n",
       "여성의류          103435.0\n",
       "스포츠패션          96663.0\n",
       "남성의류           93222.0\n",
       "속옷/양말/홈웨어      90711.0\n",
       "패션잡화           81559.0\n",
       "유아동의류          65887.0\n",
       "출산/육아용품        36482.0\n",
       "퍼스널케어          30663.0\n",
       "시즌스포츠          28154.0\n",
       "건강식품           26848.0\n",
       "원예/애완          23026.0\n",
       "침구/수예          16645.0\n",
       "식기/조리기구        16337.0\n",
       "음료             12061.0\n",
       "완구             11856.0\n",
       "청소/세탁/욕실용품     10896.0\n",
       "문구/사무용품        10696.0\n",
       "세제/위생           9817.0\n",
       "주방잡화            9774.0\n",
       "가구              9106.0\n",
       "아웃도어/레저         8446.0\n",
       "생활/주방가전         7468.0\n",
       "구기/필드스포츠        6439.0\n",
       "과일              5345.0\n",
       "모바일             5125.0\n",
       "헬스/피트니스         5071.0\n",
       "컴퓨터             4013.0\n",
       "상품권             3641.0\n",
       "냉장식품            3572.0\n",
       "냉동식품            3062.0\n",
       "계절가전            2546.0\n",
       "축산물             2292.0\n",
       "인테리어/조명         1324.0\n",
       "영상/음향가전         1074.0\n",
       "냉장/세탁가전         1043.0\n",
       "자동차용품            247.0\n",
       "dtype: float64"
      ]
     },
     "execution_count": 8,
     "metadata": {},
     "output_type": "execute_result"
    }
   ],
   "source": [
    "b = target_prod_master.loc[q2.index]\n",
    "b.sum().sort_values(ascending=False)"
   ]
  },
  {
   "cell_type": "code",
   "execution_count": 9,
   "metadata": {},
   "outputs": [
    {
     "data": {
      "text/plain": [
       "CLAC1_NM\n",
       "여성의류          134201.0\n",
       "화장품/뷰티케어      127039.0\n",
       "스포츠패션         120059.0\n",
       "남성의류          100804.0\n",
       "패션잡화           99996.0\n",
       "속옷/양말/홈웨어      83025.0\n",
       "유아동의류          70009.0\n",
       "시즌스포츠          32700.0\n",
       "출산/육아용품        30315.0\n",
       "건강식품           29394.0\n",
       "퍼스널케어          28878.0\n",
       "원예/애완          18702.0\n",
       "침구/수예          16258.0\n",
       "식기/조리기구        15256.0\n",
       "음료             12147.0\n",
       "완구             11443.0\n",
       "문구/사무용품        10044.0\n",
       "주방잡화            9994.0\n",
       "생활/주방가전         9758.0\n",
       "가구              9728.0\n",
       "아웃도어/레저         9643.0\n",
       "청소/세탁/욕실용품      9327.0\n",
       "세제/위생           8809.0\n",
       "구기/필드스포츠        7457.0\n",
       "과일              5472.0\n",
       "헬스/피트니스         5439.0\n",
       "모바일             5281.0\n",
       "컴퓨터             4657.0\n",
       "계절가전            3156.0\n",
       "냉동식품            2811.0\n",
       "냉장식품            2792.0\n",
       "상품권             2784.0\n",
       "축산물             1921.0\n",
       "냉장/세탁가전         1725.0\n",
       "인테리어/조명         1572.0\n",
       "영상/음향가전         1428.0\n",
       "자동차용품            297.0\n",
       "dtype: float64"
      ]
     },
     "execution_count": 9,
     "metadata": {},
     "output_type": "execute_result"
    }
   ],
   "source": [
    "c = target_prod_master.loc[q3.index]\n",
    "c.sum().sort_values(ascending=False)"
   ]
  },
  {
   "cell_type": "code",
   "execution_count": 10,
   "metadata": {},
   "outputs": [
    {
     "data": {
      "text/plain": [
       "CLAC1_NM\n",
       "여성의류          151505.0\n",
       "스포츠패션         130621.0\n",
       "화장품/뷰티케어      109892.0\n",
       "패션잡화          105977.0\n",
       "남성의류           96730.0\n",
       "속옷/양말/홈웨어      60463.0\n",
       "유아동의류          59240.0\n",
       "시즌스포츠          31878.0\n",
       "건강식품           27033.0\n",
       "퍼스널케어          22156.0\n",
       "출산/육아용품        19625.0\n",
       "원예/애완          12739.0\n",
       "침구/수예          12324.0\n",
       "식기/조리기구        12245.0\n",
       "생활/주방가전        10316.0\n",
       "음료              9993.0\n",
       "아웃도어/레저         9393.0\n",
       "가구              8603.0\n",
       "완구              8491.0\n",
       "주방잡화            7539.0\n",
       "문구/사무용품         7305.0\n",
       "세제/위생           7094.0\n",
       "구기/필드스포츠        6925.0\n",
       "청소/세탁/욕실용품      6231.0\n",
       "모바일             4962.0\n",
       "과일              4842.0\n",
       "헬스/피트니스         4646.0\n",
       "컴퓨터             3942.0\n",
       "계절가전            3308.0\n",
       "상품권             1865.0\n",
       "냉장/세탁가전         1861.0\n",
       "냉장식품            1840.0\n",
       "냉동식품            1721.0\n",
       "축산물             1690.0\n",
       "인테리어/조명         1216.0\n",
       "영상/음향가전         1152.0\n",
       "자동차용품            315.0\n",
       "dtype: float64"
      ]
     },
     "execution_count": 10,
     "metadata": {},
     "output_type": "execute_result"
    }
   ],
   "source": [
    "d = target_prod_master.loc[q4.index]\n",
    "d.sum().sort_values(ascending=False)"
   ]
  },
  {
   "cell_type": "code",
   "execution_count": 11,
   "metadata": {},
   "outputs": [],
   "source": [
    "quaters = pd.DataFrame([a.sum(), b.sum(), c.sum(), d.sum()])"
   ]
  },
  {
   "cell_type": "code",
   "execution_count": 12,
   "metadata": {},
   "outputs": [
    {
     "name": "stdout",
     "output_type": "stream",
     "text": [
      "가구 : -0.06295151379701754\n",
      "건강식품 : 0.002892432682937809\n",
      "계절가전 : 0.9520382658307629\n",
      "과일 : -0.8985334125133894\n",
      "구기/필드스포츠 : 0.584353966549804\n",
      "남성의류 : 0.6256004779116411\n",
      "냉동식품 : -0.9033748041893848\n",
      "냉장/세탁가전 : 0.9676793543420272\n",
      "냉장식품 : -0.5183042171648619\n",
      "모바일 : -0.21812981001722398\n",
      "문구/사무용품 : -0.9724846311738855\n",
      "상품권 : -0.9349167507367742\n",
      "생활/주방가전 : 0.9618104171063276\n",
      "세제/위생 : -0.9676687436620898\n",
      "속옷/양말/홈웨어 : -0.9665928829800228\n",
      "스포츠패션 : 0.9875142672788305\n",
      "시즌스포츠 : 0.9082256645880571\n",
      "식기/조리기구 : -0.9522176782495166\n",
      "아웃도어/레저 : 0.9042323409751029\n",
      "여성의류 : 0.9922440360137489\n",
      "영상/음향가전 : 0.7328771581781077\n",
      "완구 : -0.8938386959814582\n",
      "원예/애완 : -0.938730210089831\n",
      "유아동의류 : 0.20830000598163018\n",
      "음료 : -0.7062605994541143\n",
      "인테리어/조명 : -0.782381595772305\n",
      "자동차용품 : 0.9262773565083818\n",
      "주방잡화 : -0.8580357983616543\n",
      "청소/세탁/욕실용품 : -0.8899271761395564\n",
      "축산물 : -0.8184681578239751\n",
      "출산/육아용품 : -0.9930604389092232\n",
      "침구/수예 : -0.8174938825452959\n",
      "컴퓨터 : 0.6113044002726724\n",
      "패션잡화 : 0.9702366237082252\n",
      "퍼스널케어 : -0.9759602598664118\n",
      "헬스/피트니스 : -0.3049136922522504\n",
      "화장품/뷰티케어 : -0.04907837300302653\n"
     ]
    }
   ],
   "source": [
    "tmp_list = []\n",
    "\n",
    "for cat_name in quaters.columns:\n",
    "    print(cat_name, ':', quaters[cat_name].reset_index().corr().iloc[0,1])\n",
    "    tmp_list.append(quaters[cat_name].reset_index().corr().iloc[0,1])"
   ]
  },
  {
   "cell_type": "code",
   "execution_count": 13,
   "metadata": {},
   "outputs": [],
   "source": [
    "quaters.loc['corr'] = tmp_list"
   ]
  },
  {
   "cell_type": "code",
   "execution_count": 23,
   "metadata": {},
   "outputs": [
    {
     "data": {
      "text/html": [
       "<div>\n",
       "<style scoped>\n",
       "    .dataframe tbody tr th:only-of-type {\n",
       "        vertical-align: middle;\n",
       "    }\n",
       "\n",
       "    .dataframe tbody tr th {\n",
       "        vertical-align: top;\n",
       "    }\n",
       "\n",
       "    .dataframe thead th {\n",
       "        text-align: right;\n",
       "    }\n",
       "</style>\n",
       "<table border=\"1\" class=\"dataframe\">\n",
       "  <thead>\n",
       "    <tr style=\"text-align: right;\">\n",
       "      <th></th>\n",
       "      <th>corr</th>\n",
       "    </tr>\n",
       "    <tr>\n",
       "      <th>CLAC1_NM</th>\n",
       "      <th></th>\n",
       "    </tr>\n",
       "  </thead>\n",
       "  <tbody>\n",
       "    <tr>\n",
       "      <th>냉동식품</th>\n",
       "      <td>-0.903375</td>\n",
       "    </tr>\n",
       "    <tr>\n",
       "      <th>상품권</th>\n",
       "      <td>-0.934917</td>\n",
       "    </tr>\n",
       "    <tr>\n",
       "      <th>원예/애완</th>\n",
       "      <td>-0.938730</td>\n",
       "    </tr>\n",
       "    <tr>\n",
       "      <th>식기/조리기구</th>\n",
       "      <td>-0.952218</td>\n",
       "    </tr>\n",
       "    <tr>\n",
       "      <th>속옷/양말/홈웨어</th>\n",
       "      <td>-0.966593</td>\n",
       "    </tr>\n",
       "    <tr>\n",
       "      <th>세제/위생</th>\n",
       "      <td>-0.967669</td>\n",
       "    </tr>\n",
       "    <tr>\n",
       "      <th>문구/사무용품</th>\n",
       "      <td>-0.972485</td>\n",
       "    </tr>\n",
       "    <tr>\n",
       "      <th>퍼스널케어</th>\n",
       "      <td>-0.975960</td>\n",
       "    </tr>\n",
       "    <tr>\n",
       "      <th>출산/육아용품</th>\n",
       "      <td>-0.993060</td>\n",
       "    </tr>\n",
       "  </tbody>\n",
       "</table>\n",
       "</div>"
      ],
      "text/plain": [
       "               corr\n",
       "CLAC1_NM           \n",
       "냉동식품      -0.903375\n",
       "상품권       -0.934917\n",
       "원예/애완     -0.938730\n",
       "식기/조리기구   -0.952218\n",
       "속옷/양말/홈웨어 -0.966593\n",
       "세제/위생     -0.967669\n",
       "문구/사무용품   -0.972485\n",
       "퍼스널케어     -0.975960\n",
       "출산/육아용품   -0.993060"
      ]
     },
     "execution_count": 23,
     "metadata": {},
     "output_type": "execute_result"
    }
   ],
   "source": [
    "quaters.loc[['corr']].T.sort_values('corr', ascending=False).tail(9)"
   ]
  },
  {
   "cell_type": "code",
   "execution_count": 16,
   "metadata": {},
   "outputs": [
    {
     "data": {
      "text/html": [
       "<div>\n",
       "<style scoped>\n",
       "    .dataframe tbody tr th:only-of-type {\n",
       "        vertical-align: middle;\n",
       "    }\n",
       "\n",
       "    .dataframe tbody tr th {\n",
       "        vertical-align: top;\n",
       "    }\n",
       "\n",
       "    .dataframe thead th {\n",
       "        text-align: right;\n",
       "    }\n",
       "</style>\n",
       "<table border=\"1\" class=\"dataframe\">\n",
       "  <thead>\n",
       "    <tr style=\"text-align: right;\">\n",
       "      <th>CLAC1_NM</th>\n",
       "      <th>가구</th>\n",
       "      <th>건강식품</th>\n",
       "      <th>계절가전</th>\n",
       "      <th>과일</th>\n",
       "      <th>구기/필드스포츠</th>\n",
       "      <th>남성의류</th>\n",
       "      <th>냉동식품</th>\n",
       "      <th>냉장/세탁가전</th>\n",
       "      <th>냉장식품</th>\n",
       "      <th>모바일</th>\n",
       "      <th>...</th>\n",
       "      <th>주방잡화</th>\n",
       "      <th>청소/세탁/욕실용품</th>\n",
       "      <th>축산물</th>\n",
       "      <th>출산/육아용품</th>\n",
       "      <th>침구/수예</th>\n",
       "      <th>컴퓨터</th>\n",
       "      <th>패션잡화</th>\n",
       "      <th>퍼스널케어</th>\n",
       "      <th>헬스/피트니스</th>\n",
       "      <th>화장품/뷰티케어</th>\n",
       "    </tr>\n",
       "  </thead>\n",
       "  <tbody>\n",
       "    <tr>\n",
       "      <th>corr</th>\n",
       "      <td>-0.062952</td>\n",
       "      <td>0.002892</td>\n",
       "      <td>0.952038</td>\n",
       "      <td>-0.898533</td>\n",
       "      <td>0.584354</td>\n",
       "      <td>0.6256</td>\n",
       "      <td>-0.903375</td>\n",
       "      <td>0.967679</td>\n",
       "      <td>-0.518304</td>\n",
       "      <td>-0.21813</td>\n",
       "      <td>...</td>\n",
       "      <td>-0.858036</td>\n",
       "      <td>-0.889927</td>\n",
       "      <td>-0.818468</td>\n",
       "      <td>-0.99306</td>\n",
       "      <td>-0.817494</td>\n",
       "      <td>0.611304</td>\n",
       "      <td>0.970237</td>\n",
       "      <td>-0.97596</td>\n",
       "      <td>-0.304914</td>\n",
       "      <td>-0.049078</td>\n",
       "    </tr>\n",
       "  </tbody>\n",
       "</table>\n",
       "<p>1 rows × 37 columns</p>\n",
       "</div>"
      ],
      "text/plain": [
       "CLAC1_NM        가구      건강식품      계절가전        과일  구기/필드스포츠    남성의류      냉동식품  \\\n",
       "corr     -0.062952  0.002892  0.952038 -0.898533  0.584354  0.6256 -0.903375   \n",
       "\n",
       "CLAC1_NM   냉장/세탁가전      냉장식품      모바일    ...         주방잡화  청소/세탁/욕실용품  \\\n",
       "corr      0.967679 -0.518304 -0.21813    ...    -0.858036   -0.889927   \n",
       "\n",
       "CLAC1_NM       축산물  출산/육아용품     침구/수예       컴퓨터      패션잡화    퍼스널케어   헬스/피트니스  \\\n",
       "corr     -0.818468 -0.99306 -0.817494  0.611304  0.970237 -0.97596 -0.304914   \n",
       "\n",
       "CLAC1_NM  화장품/뷰티케어  \n",
       "corr     -0.049078  \n",
       "\n",
       "[1 rows x 37 columns]"
      ]
     },
     "execution_count": 16,
     "metadata": {},
     "output_type": "execute_result"
    }
   ],
   "source": [
    "quaters.loc[['corr']]"
   ]
  },
  {
   "cell_type": "code",
   "execution_count": null,
   "metadata": {},
   "outputs": [],
   "source": [
    "quaters.to_csv('project/quaters.csv', sep=',', encoding='utf-8', header=True)"
   ]
  },
  {
   "cell_type": "code",
   "execution_count": 24,
   "metadata": {},
   "outputs": [
    {
     "data": {
      "text/html": [
       "<div>\n",
       "<style scoped>\n",
       "    .dataframe tbody tr th:only-of-type {\n",
       "        vertical-align: middle;\n",
       "    }\n",
       "\n",
       "    .dataframe tbody tr th {\n",
       "        vertical-align: top;\n",
       "    }\n",
       "\n",
       "    .dataframe thead th {\n",
       "        text-align: right;\n",
       "    }\n",
       "</style>\n",
       "<table border=\"1\" class=\"dataframe\">\n",
       "  <thead>\n",
       "    <tr style=\"text-align: right;\">\n",
       "      <th>CLAC1_NM</th>\n",
       "      <th>가구</th>\n",
       "      <th>건강식품</th>\n",
       "      <th>계절가전</th>\n",
       "      <th>과일</th>\n",
       "      <th>구기/필드스포츠</th>\n",
       "      <th>남성의류</th>\n",
       "      <th>냉동식품</th>\n",
       "      <th>냉장/세탁가전</th>\n",
       "      <th>냉장식품</th>\n",
       "      <th>모바일</th>\n",
       "      <th>...</th>\n",
       "      <th>주방잡화</th>\n",
       "      <th>청소/세탁/욕실용품</th>\n",
       "      <th>축산물</th>\n",
       "      <th>출산/육아용품</th>\n",
       "      <th>침구/수예</th>\n",
       "      <th>컴퓨터</th>\n",
       "      <th>패션잡화</th>\n",
       "      <th>퍼스널케어</th>\n",
       "      <th>헬스/피트니스</th>\n",
       "      <th>화장품/뷰티케어</th>\n",
       "    </tr>\n",
       "  </thead>\n",
       "  <tbody>\n",
       "    <tr>\n",
       "      <th>0</th>\n",
       "      <td>8888.0</td>\n",
       "      <td>27873.0</td>\n",
       "      <td>1548.0</td>\n",
       "      <td>6528.0</td>\n",
       "      <td>6581.0</td>\n",
       "      <td>93568.0</td>\n",
       "      <td>6820.0</td>\n",
       "      <td>346.0</td>\n",
       "      <td>2537.0</td>\n",
       "      <td>5088.0</td>\n",
       "      <td>...</td>\n",
       "      <td>10541.0</td>\n",
       "      <td>26458.0</td>\n",
       "      <td>8714.0</td>\n",
       "      <td>43877.0</td>\n",
       "      <td>16630.0</td>\n",
       "      <td>3246.0</td>\n",
       "      <td>57576.0</td>\n",
       "      <td>38598.0</td>\n",
       "      <td>5024.0</td>\n",
       "      <td>112867.0</td>\n",
       "    </tr>\n",
       "    <tr>\n",
       "      <th>1</th>\n",
       "      <td>9106.0</td>\n",
       "      <td>26848.0</td>\n",
       "      <td>2546.0</td>\n",
       "      <td>5345.0</td>\n",
       "      <td>6439.0</td>\n",
       "      <td>93222.0</td>\n",
       "      <td>3062.0</td>\n",
       "      <td>1043.0</td>\n",
       "      <td>3572.0</td>\n",
       "      <td>5125.0</td>\n",
       "      <td>...</td>\n",
       "      <td>9774.0</td>\n",
       "      <td>10896.0</td>\n",
       "      <td>2292.0</td>\n",
       "      <td>36482.0</td>\n",
       "      <td>16645.0</td>\n",
       "      <td>4013.0</td>\n",
       "      <td>81559.0</td>\n",
       "      <td>30663.0</td>\n",
       "      <td>5071.0</td>\n",
       "      <td>121083.0</td>\n",
       "    </tr>\n",
       "    <tr>\n",
       "      <th>2</th>\n",
       "      <td>9728.0</td>\n",
       "      <td>29394.0</td>\n",
       "      <td>3156.0</td>\n",
       "      <td>5472.0</td>\n",
       "      <td>7457.0</td>\n",
       "      <td>100804.0</td>\n",
       "      <td>2811.0</td>\n",
       "      <td>1725.0</td>\n",
       "      <td>2792.0</td>\n",
       "      <td>5281.0</td>\n",
       "      <td>...</td>\n",
       "      <td>9994.0</td>\n",
       "      <td>9327.0</td>\n",
       "      <td>1921.0</td>\n",
       "      <td>30315.0</td>\n",
       "      <td>16258.0</td>\n",
       "      <td>4657.0</td>\n",
       "      <td>99996.0</td>\n",
       "      <td>28878.0</td>\n",
       "      <td>5439.0</td>\n",
       "      <td>127039.0</td>\n",
       "    </tr>\n",
       "    <tr>\n",
       "      <th>3</th>\n",
       "      <td>8603.0</td>\n",
       "      <td>27033.0</td>\n",
       "      <td>3308.0</td>\n",
       "      <td>4842.0</td>\n",
       "      <td>6925.0</td>\n",
       "      <td>96730.0</td>\n",
       "      <td>1721.0</td>\n",
       "      <td>1861.0</td>\n",
       "      <td>1840.0</td>\n",
       "      <td>4962.0</td>\n",
       "      <td>...</td>\n",
       "      <td>7539.0</td>\n",
       "      <td>6231.0</td>\n",
       "      <td>1690.0</td>\n",
       "      <td>19625.0</td>\n",
       "      <td>12324.0</td>\n",
       "      <td>3942.0</td>\n",
       "      <td>105977.0</td>\n",
       "      <td>22156.0</td>\n",
       "      <td>4646.0</td>\n",
       "      <td>109892.0</td>\n",
       "    </tr>\n",
       "  </tbody>\n",
       "</table>\n",
       "<p>4 rows × 37 columns</p>\n",
       "</div>"
      ],
      "text/plain": [
       "CLAC1_NM      가구     건강식품    계절가전      과일  구기/필드스포츠      남성의류    냉동식품  \\\n",
       "0         8888.0  27873.0  1548.0  6528.0    6581.0   93568.0  6820.0   \n",
       "1         9106.0  26848.0  2546.0  5345.0    6439.0   93222.0  3062.0   \n",
       "2         9728.0  29394.0  3156.0  5472.0    7457.0  100804.0  2811.0   \n",
       "3         8603.0  27033.0  3308.0  4842.0    6925.0   96730.0  1721.0   \n",
       "\n",
       "CLAC1_NM  냉장/세탁가전    냉장식품     모바일    ...        주방잡화  청소/세탁/욕실용품     축산물  \\\n",
       "0           346.0  2537.0  5088.0    ...     10541.0     26458.0  8714.0   \n",
       "1          1043.0  3572.0  5125.0    ...      9774.0     10896.0  2292.0   \n",
       "2          1725.0  2792.0  5281.0    ...      9994.0      9327.0  1921.0   \n",
       "3          1861.0  1840.0  4962.0    ...      7539.0      6231.0  1690.0   \n",
       "\n",
       "CLAC1_NM  출산/육아용품    침구/수예     컴퓨터      패션잡화    퍼스널케어  헬스/피트니스  화장품/뷰티케어  \n",
       "0         43877.0  16630.0  3246.0   57576.0  38598.0   5024.0  112867.0  \n",
       "1         36482.0  16645.0  4013.0   81559.0  30663.0   5071.0  121083.0  \n",
       "2         30315.0  16258.0  4657.0   99996.0  28878.0   5439.0  127039.0  \n",
       "3         19625.0  12324.0  3942.0  105977.0  22156.0   4646.0  109892.0  \n",
       "\n",
       "[4 rows x 37 columns]"
      ]
     },
     "execution_count": 24,
     "metadata": {},
     "output_type": "execute_result"
    }
   ],
   "source": [
    "qq = quaters.drop('corr')\n",
    "qq[:]"
   ]
  },
  {
   "cell_type": "code",
   "execution_count": 55,
   "metadata": {},
   "outputs": [],
   "source": [
    "from sklearn import preprocessing\n",
    "\n",
    "qq = quaters.drop('corr')\n",
    "\n",
    "min_max_scaler = preprocessing.MinMaxScaler()\n",
    "qq[:] = min_max_scaler.fit_transform(qq)\n",
    "qq.index = qq.index+1\n",
    "qq.loc[1]=qq.loc[1]+0.1\n"
   ]
  },
  {
   "cell_type": "code",
   "execution_count": 52,
   "metadata": {},
   "outputs": [
    {
     "data": {
      "text/plain": [
       "[Text(0.5, 0, '')]"
      ]
     },
     "execution_count": 52,
     "metadata": {},
     "output_type": "execute_result"
    },
    {
     "data": {
      "image/png": "[encoded data removed]",
      "text/plain": [
       "<Figure size 720x720 with 1 Axes>"
      ]
     },
     "metadata": {
      "needs_background": "light"
     },
     "output_type": "display_data"
    }
   ],
   "source": [
    "ax = qq[['속옷/양말/홈웨어', '냉동식품', '문구/사무용품', '세제/위생', '식기/조리기구']][0:5].stack().unstack(0).plot(kind='bar', figsize=(10,10))\n",
    "ax.set(xlabel='')"
   ]
  },
  {
   "cell_type": "code",
   "execution_count": null,
   "metadata": {},
   "outputs": [],
   "source": []
  },
  {
   "cell_type": "code",
   "execution_count": null,
   "metadata": {},
   "outputs": [],
   "source": []
  },
  {
   "cell_type": "code",
   "execution_count": 56,
   "metadata": {},
   "outputs": [
    {
     "data": {
      "text/plain": [
       "[Text(0.5, 0, '')]"
      ]
     },
     "execution_count": 56,
     "metadata": {},
     "output_type": "execute_result"
    },
    {
     "data": {
      "image/png": "[encoded data removed]",
      "text/plain": [
       "<Figure size 720x720 with 1 Axes>"
      ]
     },
     "metadata": {
      "needs_background": "light"
     },
     "output_type": "display_data"
    }
   ],
   "source": [
    "ax = qq[['여성의류', '패션잡화', '냉장/세탁가전', '자동차용품', '시즌스포츠']][0:4].stack().unstack(0).plot(kind='bar', figsize=(10,10))\n",
    "ax.set(xlabel='')"
   ]
  },
  {
   "cell_type": "code",
   "execution_count": 30,
   "metadata": {},
   "outputs": [
    {
     "data": {
      "text/plain": [
       "<matplotlib.legend.Legend at 0x54ab860>"
      ]
     },
     "execution_count": 30,
     "metadata": {},
     "output_type": "execute_result"
    }
   ],
   "source": []
  },
  {
   "cell_type": "code",
   "execution_count": null,
   "metadata": {},
   "outputs": [],
   "source": []
  },
  {
   "cell_type": "code",
   "execution_count": null,
   "metadata": {},
   "outputs": [],
   "source": []
  }
 ],
 "metadata": {
  "kernelspec": {
   "display_name": "Python 3",
   "language": "python",
   "name": "python3"
  },
  "language_info": {
   "codemirror_mode": {
    "name": "ipython",
    "version": 3
   },
   "file_extension": ".py",
   "mimetype": "text/x-python",
   "name": "python",
   "nbconvert_exporter": "python",
   "pygments_lexer": "ipython3",
   "version": "3.7.1"
  }
 },
 "nbformat": 4,
 "nbformat_minor": 2
}
