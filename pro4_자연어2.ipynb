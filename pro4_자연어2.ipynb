{
 "cells": [
  {
   "cell_type": "code",
   "execution_count": 1,
   "metadata": {},
   "outputs": [],
   "source": [
    "import pandas as pd\n",
    "import numpy as np\n",
    "from sklearn.feature_extraction.text import TfidfVectorizer\n",
    "from sklearn.metrics.pairwise import cosine_similarity"
   ]
  },
  {
   "cell_type": "code",
   "execution_count": 2,
   "metadata": {},
   "outputs": [
    {
     "name": "stderr",
     "output_type": "stream",
     "text": [
      "C:\\Users\\acorn\\Anaconda3\\lib\\site-packages\\numpy\\lib\\arraysetops.py:522: FutureWarning: elementwise comparison failed; returning scalar instead, but in the future will perform elementwise comparison\n",
      "  mask |= (ar1 == a)\n"
     ]
    }
   ],
   "source": [
    "string_prod_pivot = pd.read_csv('project/string_prod_pivot.csv', index_col=0)\n",
    "custom = pd.read_csv('project/04.Custom.csv', index_col=0)\n",
    "prod = pd.read_csv('project/new_product.csv', index_col=1).drop('Unnamed: 0', axis=1)"
   ]
  },
  {
   "cell_type": "code",
   "execution_count": 3,
   "metadata": {},
   "outputs": [],
   "source": [
    "q1 = pd.read_csv('project/q1.csv', index_col=0)\n",
    "q2 = pd.read_csv('project/q2.csv', index_col=0)\n",
    "q3 = pd.read_csv('project/q3.csv', index_col=0)\n",
    "q4 = pd.read_csv('project/q4.csv', index_col=0)"
   ]
  },
  {
   "cell_type": "code",
   "execution_count": 4,
   "metadata": {},
   "outputs": [
    {
     "data": {
      "text/html": [
       "<div>\n",
       "<style scoped>\n",
       "    .dataframe tbody tr th:only-of-type {\n",
       "        vertical-align: middle;\n",
       "    }\n",
       "\n",
       "    .dataframe tbody tr th {\n",
       "        vertical-align: top;\n",
       "    }\n",
       "\n",
       "    .dataframe thead th {\n",
       "        text-align: right;\n",
       "    }\n",
       "</style>\n",
       "<table border=\"1\" class=\"dataframe\">\n",
       "  <thead>\n",
       "    <tr style=\"text-align: right;\">\n",
       "      <th></th>\n",
       "      <th>strings</th>\n",
       "    </tr>\n",
       "    <tr>\n",
       "      <th>CLNT_ID</th>\n",
       "      <th></th>\n",
       "    </tr>\n",
       "  </thead>\n",
       "  <tbody>\n",
       "    <tr>\n",
       "      <th>8</th>\n",
       "      <td>남녀공용 오베이                                      ...</td>\n",
       "    </tr>\n",
       "    <tr>\n",
       "      <th>14</th>\n",
       "      <td>남성가죽시계                                    로이드 ...</td>\n",
       "    </tr>\n",
       "    <tr>\n",
       "      <th>25</th>\n",
       "      <td>이롬황성주  일 생식  주   쉐이커 이롬 일반두유     피테로마 때박살  세트...</td>\n",
       "    </tr>\n",
       "    <tr>\n",
       "      <th>32</th>\n",
       "      <td>남여 간절기 셔츠  종 택                                ...</td>\n",
       "    </tr>\n",
       "    <tr>\n",
       "      <th>33</th>\n",
       "      <td>섬유유연제      엘레강스 다우니 섬유유연제 향기지속제드라이샴푸  종 체리    ...</td>\n",
       "    </tr>\n",
       "  </tbody>\n",
       "</table>\n",
       "</div>"
      ],
      "text/plain": [
       "                                                   strings\n",
       "CLNT_ID                                                   \n",
       "8        남녀공용 오베이                                      ...\n",
       "14       남성가죽시계                                    로이드 ...\n",
       "25        이롬황성주  일 생식  주   쉐이커 이롬 일반두유     피테로마 때박살  세트...\n",
       "32       남여 간절기 셔츠  종 택                                ...\n",
       "33       섬유유연제      엘레강스 다우니 섬유유연제 향기지속제드라이샴푸  종 체리    ..."
      ]
     },
     "metadata": {},
     "output_type": "display_data"
    },
    {
     "data": {
      "text/html": [
       "<div>\n",
       "<style scoped>\n",
       "    .dataframe tbody tr th:only-of-type {\n",
       "        vertical-align: middle;\n",
       "    }\n",
       "\n",
       "    .dataframe tbody tr th {\n",
       "        vertical-align: top;\n",
       "    }\n",
       "\n",
       "    .dataframe thead th {\n",
       "        text-align: right;\n",
       "    }\n",
       "</style>\n",
       "<table border=\"1\" class=\"dataframe\">\n",
       "  <thead>\n",
       "    <tr style=\"text-align: right;\">\n",
       "      <th></th>\n",
       "      <th>CLNT_GENDER</th>\n",
       "      <th>CLNT_AGE</th>\n",
       "    </tr>\n",
       "    <tr>\n",
       "      <th>CLNT_ID</th>\n",
       "      <th></th>\n",
       "      <th></th>\n",
       "    </tr>\n",
       "  </thead>\n",
       "  <tbody>\n",
       "    <tr>\n",
       "      <th>4830726</th>\n",
       "      <td>F</td>\n",
       "      <td>30</td>\n",
       "    </tr>\n",
       "    <tr>\n",
       "      <th>4830874</th>\n",
       "      <td>F</td>\n",
       "      <td>40</td>\n",
       "    </tr>\n",
       "    <tr>\n",
       "      <th>4830975</th>\n",
       "      <td>F</td>\n",
       "      <td>30</td>\n",
       "    </tr>\n",
       "    <tr>\n",
       "      <th>4831275</th>\n",
       "      <td>F</td>\n",
       "      <td>30</td>\n",
       "    </tr>\n",
       "    <tr>\n",
       "      <th>4825325</th>\n",
       "      <td>F</td>\n",
       "      <td>30</td>\n",
       "    </tr>\n",
       "  </tbody>\n",
       "</table>\n",
       "</div>"
      ],
      "text/plain": [
       "        CLNT_GENDER  CLNT_AGE\n",
       "CLNT_ID                      \n",
       "4830726           F        30\n",
       "4830874           F        40\n",
       "4830975           F        30\n",
       "4831275           F        30\n",
       "4825325           F        30"
      ]
     },
     "metadata": {},
     "output_type": "display_data"
    }
   ],
   "source": [
    "display(string_prod_pivot.head())\n",
    "display(custom.head())"
   ]
  },
  {
   "cell_type": "code",
   "execution_count": null,
   "metadata": {},
   "outputs": [
    {
     "data": {
      "text/plain": [
       "CLNT_GENDER     F\n",
       "CLNT_AGE       30\n",
       "Name: 6592475, dtype: object"
      ]
     },
     "execution_count": 5,
     "metadata": {},
     "output_type": "execute_result"
    }
   ],
   "source": [
    "# 고객 입력\n",
    "clnt = custom.loc[6592475]\n",
    "clnt"
   ]
  },
  {
   "cell_type": "code",
   "execution_count": null,
   "metadata": {},
   "outputs": [],
   "source": [
    "# 성별,나이로 분류 후, q1/q2/q3/q4로 재분류\n",
    "def classify(clnt):\n",
    "    custom_gen = custom[(custom['CLNT_GENDER'] == clnt[0]) & (custom['CLNT_AGE'] == clnt[1])]\n",
    "    if clnt.name in q1.index:\n",
    "        return custom_gen.loc[q1.index].dropna()\n",
    "    elif clnt.name in q2.index:\n",
    "        return custom_gen.loc[q2.index].dropna()\n",
    "    elif clnt.name in q3.index:\n",
    "        return custom_gen.loc[q3.index].dropna()\n",
    "    elif clnt.name in q4.index:\n",
    "        return custom_gen.loc[q4.index].dropna()\n",
    "    else:\n",
    "        print('client_not_found')"
   ]
  },
  {
   "cell_type": "code",
   "execution_count": null,
   "metadata": {},
   "outputs": [
    {
     "name": "stderr",
     "output_type": "stream",
     "text": [
      "C:\\Users\\acorn\\Anaconda3\\lib\\site-packages\\ipykernel_launcher.py:11: FutureWarning: \n",
      "Passing list-likes to .loc or [] with any missing label will raise\n",
      "KeyError in the future, you can use .reindex() as an alternative.\n",
      "\n",
      "See the documentation here:\n",
      "https://pandas.pydata.org/pandas-docs/stable/indexing.html#deprecate-loc-reindex-listlike\n",
      "  # This is added back by InteractiveShellApp.init_path()\n"
     ]
    }
   ],
   "source": [
    "classed = classify(clnt)"
   ]
  },
  {
   "cell_type": "code",
   "execution_count": null,
   "metadata": {},
   "outputs": [
    {
     "name": "stderr",
     "output_type": "stream",
     "text": [
      "C:\\Users\\acorn\\Anaconda3\\lib\\site-packages\\ipykernel_launcher.py:1: FutureWarning: \n",
      "Passing list-likes to .loc or [] with any missing label will raise\n",
      "KeyError in the future, you can use .reindex() as an alternative.\n",
      "\n",
      "See the documentation here:\n",
      "https://pandas.pydata.org/pandas-docs/stable/indexing.html#deprecate-loc-reindex-listlike\n",
      "  \"\"\"Entry point for launching an IPython kernel.\n"
     ]
    }
   ],
   "source": [
    "classed_fin = string_prod_pivot.loc[classed.index].dropna()"
   ]
  },
  {
   "cell_type": "code",
   "execution_count": null,
   "metadata": {},
   "outputs": [
    {
     "name": "stdout",
     "output_type": "stream",
     "text": [
      "(27093, 59080)\n"
     ]
    }
   ],
   "source": [
    "# 벡터, 행렬화\n",
    "tf = TfidfVectorizer()\n",
    "tf_matrix = tf.fit_transform(classed_fin['strings'])\n",
    "print(tf_matrix.shape)"
   ]
  },
  {
   "cell_type": "code",
   "execution_count": null,
   "metadata": {},
   "outputs": [],
   "source": [
    "#유사도\n",
    "cosine_sim = cosine_similarity(tf_matrix, tf_matrix)"
   ]
  },
  {
   "cell_type": "code",
   "execution_count": null,
   "metadata": {},
   "outputs": [],
   "source": [
    "indices = pd.Series(np.arange(len(classed_fin)), index = classed_fin.index)"
   ]
  },
  {
   "cell_type": "code",
   "execution_count": null,
   "metadata": {},
   "outputs": [],
   "source": [
    "# 행렬에서 값 뽑기\n",
    "def similarity(clnt, cosine_sim=cosine_sim):\n",
    "    idx = indices[clnt.name]\n",
    "\n",
    "    score = list(enumerate(cosine_sim[idx]))\n",
    "\n",
    "    score = sorted(score, key=lambda x: x[1], reverse=True)\n",
    "\n",
    "    score = score[1:6]\n",
    "\n",
    "    indices_re = [i[0] for i in score]\n",
    "\n",
    "    return classed_fin.iloc[indices_re].index, score"
   ]
  },
  {
   "cell_type": "code",
   "execution_count": null,
   "metadata": {},
   "outputs": [
    {
     "data": {
      "text/plain": [
       "(Int64Index([3475810, 4299816, 6241401, 1528920, 6172081], dtype='int64', name='CLNT_ID'),\n",
       " [(16866, 0.5642103422862768),\n",
       "  (19517, 0.5041172979356562),\n",
       "  (25713, 0.48328108198772196),\n",
       "  (9124, 0.47589635157700716),\n",
       "  (25454, 0.4757424433220827)])"
      ]
     },
     "execution_count": 13,
     "metadata": {},
     "output_type": "execute_result"
    }
   ],
   "source": [
    "similarity(clnt)"
   ]
  },
  {
   "cell_type": "code",
   "execution_count": null,
   "metadata": {},
   "outputs": [],
   "source": [
    "recommend = prod[['PD_C', 'PD_BRA_NM', 'PD_BUY_CT']].loc[similarity(clnt)[0]]\n",
    "recommend = recommend.groupby(['PD_C','PD_BRA_NM'])[['PD_BUY_CT']].sum().sort_values('PD_BUY_CT', ascending=False)"
   ]
  },
  {
   "cell_type": "code",
   "execution_count": null,
   "metadata": {},
   "outputs": [],
   "source": [
    "recommend.reset_index()[['PD_C','PD_BRA_NM']][0:5]"
   ]
  },
  {
   "cell_type": "code",
   "execution_count": null,
   "metadata": {},
   "outputs": [],
   "source": [
    "prod[prod.index==6592475]"
   ]
  },
  {
   "cell_type": "code",
   "execution_count": null,
   "metadata": {},
   "outputs": [],
   "source": []
  }
 ],
 "metadata": {
  "kernelspec": {
   "display_name": "Python 3",
   "language": "python",
   "name": "python3"
  },
  "language_info": {
   "codemirror_mode": {
    "name": "ipython",
    "version": 3
   },
   "file_extension": ".py",
   "mimetype": "text/x-python",
   "name": "python",
   "nbconvert_exporter": "python",
   "pygments_lexer": "ipython3",
   "version": "3.7.1"
  }
 },
 "nbformat": 4,
 "nbformat_minor": 2
}
